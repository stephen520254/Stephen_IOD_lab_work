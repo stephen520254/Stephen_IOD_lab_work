{
 "cells": [
  {
   "cell_type": "markdown",
   "metadata": {
    "colab_type": "text",
    "id": "gn3SG1yo1KdV"
   },
   "source": [
    "<div>\n",
    "<img src=https://www.institutedata.com/wp-content/uploads/2019/10/iod_h_tp_primary_c.svg width=\"300\">\n",
    "</div>"
   ]
  },
  {
   "cell_type": "markdown",
   "metadata": {
    "colab_type": "text",
    "id": "g-SD7a9X1KdY"
   },
   "source": [
    "# Lab 10.1: NN with Keras\n",
    "INSTRUCTIONS:\n",
    "- Read the guides and hints, then create the necessary analysis and code to find an answer and conclusion for the task below.\n",
    "- **NOTE**: This is a Regression problem. Consider the appropriate:\n",
    "    - Activation function\n",
    "    - Loss/Cost Function\n",
    "    - Metrics"
   ]
  },
  {
   "cell_type": "markdown",
   "metadata": {
    "colab_type": "text",
    "id": "ENgfRnvL1Kdc"
   },
   "source": [
    "### Import libraries"
   ]
  },
  {
   "cell_type": "code",
   "execution_count": 130,
   "metadata": {
    "colab": {},
    "colab_type": "code",
    "id": "Z9H465X-1Kde"
   },
   "outputs": [],
   "source": [
    "# insert code here\n",
    "import pandas as pd\n",
    "import numpy as np\n",
    "import tensorflow\n",
    "from tensorflow import keras\n",
    "from tensorflow.keras.optimizers import Adam\n",
    "from sklearn.datasets import load_diabetes\n",
    "from sklearn.preprocessing import MinMaxScaler\n",
    "import matplotlib.pyplot as plt\n",
    "%matplotlib inline"
   ]
  },
  {
   "cell_type": "markdown",
   "metadata": {
    "colab_type": "text",
    "id": "5FHh910J1Kdm"
   },
   "source": [
    "### Load data\n",
    "Load the Diabetes dataset from **SciKit-Learn**."
   ]
  },
  {
   "cell_type": "code",
   "execution_count": 45,
   "metadata": {
    "colab": {},
    "colab_type": "code",
    "id": "MWu8SlQF1Kdo"
   },
   "outputs": [],
   "source": [
    "# insert code here\n",
    "\n",
    "data = load_diabetes()\n",
    "#df = pd.DataFrame(data['data'])"
   ]
  },
  {
   "cell_type": "markdown",
   "metadata": {
    "colab_type": "text",
    "id": "xR_yLpR01Kdr"
   },
   "source": [
    "### Prepare input data"
   ]
  },
  {
   "cell_type": "code",
   "execution_count": 49,
   "metadata": {},
   "outputs": [
    {
     "data": {
      "text/plain": [
       "{'data': array([[ 0.03807591,  0.05068012,  0.06169621, ..., -0.00259226,\n",
       "          0.01990842, -0.01764613],\n",
       "        [-0.00188202, -0.04464164, -0.05147406, ..., -0.03949338,\n",
       "         -0.06832974, -0.09220405],\n",
       "        [ 0.08529891,  0.05068012,  0.04445121, ..., -0.00259226,\n",
       "          0.00286377, -0.02593034],\n",
       "        ...,\n",
       "        [ 0.04170844,  0.05068012, -0.01590626, ..., -0.01107952,\n",
       "         -0.04687948,  0.01549073],\n",
       "        [-0.04547248, -0.04464164,  0.03906215, ...,  0.02655962,\n",
       "          0.04452837, -0.02593034],\n",
       "        [-0.04547248, -0.04464164, -0.0730303 , ..., -0.03949338,\n",
       "         -0.00421986,  0.00306441]]),\n",
       " 'target': array([151.,  75., 141., 206., 135.,  97., 138.,  63., 110., 310., 101.,\n",
       "         69., 179., 185., 118., 171., 166., 144.,  97., 168.,  68.,  49.,\n",
       "         68., 245., 184., 202., 137.,  85., 131., 283., 129.,  59., 341.,\n",
       "         87.,  65., 102., 265., 276., 252.,  90., 100.,  55.,  61.,  92.,\n",
       "        259.,  53., 190., 142.,  75., 142., 155., 225.,  59., 104., 182.,\n",
       "        128.,  52.,  37., 170., 170.,  61., 144.,  52., 128.,  71., 163.,\n",
       "        150.,  97., 160., 178.,  48., 270., 202., 111.,  85.,  42., 170.,\n",
       "        200., 252., 113., 143.,  51.,  52., 210.,  65., 141.,  55., 134.,\n",
       "         42., 111.,  98., 164.,  48.,  96.,  90., 162., 150., 279.,  92.,\n",
       "         83., 128., 102., 302., 198.,  95.,  53., 134., 144., 232.,  81.,\n",
       "        104.,  59., 246., 297., 258., 229., 275., 281., 179., 200., 200.,\n",
       "        173., 180.,  84., 121., 161.,  99., 109., 115., 268., 274., 158.,\n",
       "        107.,  83., 103., 272.,  85., 280., 336., 281., 118., 317., 235.,\n",
       "         60., 174., 259., 178., 128.,  96., 126., 288.,  88., 292.,  71.,\n",
       "        197., 186.,  25.,  84.,  96., 195.,  53., 217., 172., 131., 214.,\n",
       "         59.,  70., 220., 268., 152.,  47.,  74., 295., 101., 151., 127.,\n",
       "        237., 225.,  81., 151., 107.,  64., 138., 185., 265., 101., 137.,\n",
       "        143., 141.,  79., 292., 178.,  91., 116.,  86., 122.,  72., 129.,\n",
       "        142.,  90., 158.,  39., 196., 222., 277.,  99., 196., 202., 155.,\n",
       "         77., 191.,  70.,  73.,  49.,  65., 263., 248., 296., 214., 185.,\n",
       "         78.,  93., 252., 150.,  77., 208.,  77., 108., 160.,  53., 220.,\n",
       "        154., 259.,  90., 246., 124.,  67.,  72., 257., 262., 275., 177.,\n",
       "         71.,  47., 187., 125.,  78.,  51., 258., 215., 303., 243.,  91.,\n",
       "        150., 310., 153., 346.,  63.,  89.,  50.,  39., 103., 308., 116.,\n",
       "        145.,  74.,  45., 115., 264.,  87., 202., 127., 182., 241.,  66.,\n",
       "         94., 283.,  64., 102., 200., 265.,  94., 230., 181., 156., 233.,\n",
       "         60., 219.,  80.,  68., 332., 248.,  84., 200.,  55.,  85.,  89.,\n",
       "         31., 129.,  83., 275.,  65., 198., 236., 253., 124.,  44., 172.,\n",
       "        114., 142., 109., 180., 144., 163., 147.,  97., 220., 190., 109.,\n",
       "        191., 122., 230., 242., 248., 249., 192., 131., 237.,  78., 135.,\n",
       "        244., 199., 270., 164.,  72.,  96., 306.,  91., 214.,  95., 216.,\n",
       "        263., 178., 113., 200., 139., 139.,  88., 148.,  88., 243.,  71.,\n",
       "         77., 109., 272.,  60.,  54., 221.,  90., 311., 281., 182., 321.,\n",
       "         58., 262., 206., 233., 242., 123., 167.,  63., 197.,  71., 168.,\n",
       "        140., 217., 121., 235., 245.,  40.,  52., 104., 132.,  88.,  69.,\n",
       "        219.,  72., 201., 110.,  51., 277.,  63., 118.,  69., 273., 258.,\n",
       "         43., 198., 242., 232., 175.,  93., 168., 275., 293., 281.,  72.,\n",
       "        140., 189., 181., 209., 136., 261., 113., 131., 174., 257.,  55.,\n",
       "         84.,  42., 146., 212., 233.,  91., 111., 152., 120.,  67., 310.,\n",
       "         94., 183.,  66., 173.,  72.,  49.,  64.,  48., 178., 104., 132.,\n",
       "        220.,  57.]),\n",
       " 'frame': None,\n",
       " 'DESCR': '.. _diabetes_dataset:\\n\\nDiabetes dataset\\n----------------\\n\\nTen baseline variables, age, sex, body mass index, average blood\\npressure, and six blood serum measurements were obtained for each of n =\\n442 diabetes patients, as well as the response of interest, a\\nquantitative measure of disease progression one year after baseline.\\n\\n**Data Set Characteristics:**\\n\\n  :Number of Instances: 442\\n\\n  :Number of Attributes: First 10 columns are numeric predictive values\\n\\n  :Target: Column 11 is a quantitative measure of disease progression one year after baseline\\n\\n  :Attribute Information:\\n      - age     age in years\\n      - sex\\n      - bmi     body mass index\\n      - bp      average blood pressure\\n      - s1      tc, T-Cells (a type of white blood cells)\\n      - s2      ldl, low-density lipoproteins\\n      - s3      hdl, high-density lipoproteins\\n      - s4      tch, thyroid stimulating hormone\\n      - s5      ltg, lamotrigine\\n      - s6      glu, blood sugar level\\n\\nNote: Each of these 10 feature variables have been mean centered and scaled by the standard deviation times `n_samples` (i.e. the sum of squares of each column totals 1).\\n\\nSource URL:\\nhttps://www4.stat.ncsu.edu/~boos/var.select/diabetes.html\\n\\nFor more information see:\\nBradley Efron, Trevor Hastie, Iain Johnstone and Robert Tibshirani (2004) \"Least Angle Regression,\" Annals of Statistics (with discussion), 407-499.\\n(https://web.stanford.edu/~hastie/Papers/LARS/LeastAngle_2002.pdf)',\n",
       " 'feature_names': ['age',\n",
       "  'sex',\n",
       "  'bmi',\n",
       "  'bp',\n",
       "  's1',\n",
       "  's2',\n",
       "  's3',\n",
       "  's4',\n",
       "  's5',\n",
       "  's6'],\n",
       " 'data_filename': 'C:\\\\ProgramData\\\\Anaconda3\\\\lib\\\\site-packages\\\\sklearn\\\\datasets\\\\data\\\\diabetes_data.csv.gz',\n",
       " 'target_filename': 'C:\\\\ProgramData\\\\Anaconda3\\\\lib\\\\site-packages\\\\sklearn\\\\datasets\\\\data\\\\diabetes_target.csv.gz'}"
      ]
     },
     "execution_count": 49,
     "metadata": {},
     "output_type": "execute_result"
    }
   ],
   "source": [
    "data"
   ]
  },
  {
   "cell_type": "code",
   "execution_count": 50,
   "metadata": {},
   "outputs": [],
   "source": [
    "X = data['data']\n",
    "y = data['target']\n",
    "features = data['feature_names']"
   ]
  },
  {
   "cell_type": "code",
   "execution_count": 56,
   "metadata": {
    "colab": {},
    "colab_type": "code",
    "id": "Sp2mf2bB1Kds"
   },
   "outputs": [],
   "source": [
    "# insert code here\n",
    "X = pd.DataFrame(data=X, columns=features)"
   ]
  },
  {
   "cell_type": "code",
   "execution_count": 57,
   "metadata": {},
   "outputs": [
    {
     "data": {
      "text/html": [
       "<div>\n",
       "<style scoped>\n",
       "    .dataframe tbody tr th:only-of-type {\n",
       "        vertical-align: middle;\n",
       "    }\n",
       "\n",
       "    .dataframe tbody tr th {\n",
       "        vertical-align: top;\n",
       "    }\n",
       "\n",
       "    .dataframe thead th {\n",
       "        text-align: right;\n",
       "    }\n",
       "</style>\n",
       "<table border=\"1\" class=\"dataframe\">\n",
       "  <thead>\n",
       "    <tr style=\"text-align: right;\">\n",
       "      <th></th>\n",
       "      <th>age</th>\n",
       "      <th>sex</th>\n",
       "      <th>bmi</th>\n",
       "      <th>bp</th>\n",
       "      <th>s1</th>\n",
       "      <th>s2</th>\n",
       "      <th>s3</th>\n",
       "      <th>s4</th>\n",
       "      <th>s5</th>\n",
       "      <th>s6</th>\n",
       "    </tr>\n",
       "  </thead>\n",
       "  <tbody>\n",
       "    <tr>\n",
       "      <th>0</th>\n",
       "      <td>0.038076</td>\n",
       "      <td>0.050680</td>\n",
       "      <td>0.061696</td>\n",
       "      <td>0.021872</td>\n",
       "      <td>-0.044223</td>\n",
       "      <td>-0.034821</td>\n",
       "      <td>-0.043401</td>\n",
       "      <td>-0.002592</td>\n",
       "      <td>0.019908</td>\n",
       "      <td>-0.017646</td>\n",
       "    </tr>\n",
       "    <tr>\n",
       "      <th>1</th>\n",
       "      <td>-0.001882</td>\n",
       "      <td>-0.044642</td>\n",
       "      <td>-0.051474</td>\n",
       "      <td>-0.026328</td>\n",
       "      <td>-0.008449</td>\n",
       "      <td>-0.019163</td>\n",
       "      <td>0.074412</td>\n",
       "      <td>-0.039493</td>\n",
       "      <td>-0.068330</td>\n",
       "      <td>-0.092204</td>\n",
       "    </tr>\n",
       "    <tr>\n",
       "      <th>2</th>\n",
       "      <td>0.085299</td>\n",
       "      <td>0.050680</td>\n",
       "      <td>0.044451</td>\n",
       "      <td>-0.005671</td>\n",
       "      <td>-0.045599</td>\n",
       "      <td>-0.034194</td>\n",
       "      <td>-0.032356</td>\n",
       "      <td>-0.002592</td>\n",
       "      <td>0.002864</td>\n",
       "      <td>-0.025930</td>\n",
       "    </tr>\n",
       "    <tr>\n",
       "      <th>3</th>\n",
       "      <td>-0.089063</td>\n",
       "      <td>-0.044642</td>\n",
       "      <td>-0.011595</td>\n",
       "      <td>-0.036656</td>\n",
       "      <td>0.012191</td>\n",
       "      <td>0.024991</td>\n",
       "      <td>-0.036038</td>\n",
       "      <td>0.034309</td>\n",
       "      <td>0.022692</td>\n",
       "      <td>-0.009362</td>\n",
       "    </tr>\n",
       "    <tr>\n",
       "      <th>4</th>\n",
       "      <td>0.005383</td>\n",
       "      <td>-0.044642</td>\n",
       "      <td>-0.036385</td>\n",
       "      <td>0.021872</td>\n",
       "      <td>0.003935</td>\n",
       "      <td>0.015596</td>\n",
       "      <td>0.008142</td>\n",
       "      <td>-0.002592</td>\n",
       "      <td>-0.031991</td>\n",
       "      <td>-0.046641</td>\n",
       "    </tr>\n",
       "    <tr>\n",
       "      <th>...</th>\n",
       "      <td>...</td>\n",
       "      <td>...</td>\n",
       "      <td>...</td>\n",
       "      <td>...</td>\n",
       "      <td>...</td>\n",
       "      <td>...</td>\n",
       "      <td>...</td>\n",
       "      <td>...</td>\n",
       "      <td>...</td>\n",
       "      <td>...</td>\n",
       "    </tr>\n",
       "    <tr>\n",
       "      <th>437</th>\n",
       "      <td>0.041708</td>\n",
       "      <td>0.050680</td>\n",
       "      <td>0.019662</td>\n",
       "      <td>0.059744</td>\n",
       "      <td>-0.005697</td>\n",
       "      <td>-0.002566</td>\n",
       "      <td>-0.028674</td>\n",
       "      <td>-0.002592</td>\n",
       "      <td>0.031193</td>\n",
       "      <td>0.007207</td>\n",
       "    </tr>\n",
       "    <tr>\n",
       "      <th>438</th>\n",
       "      <td>-0.005515</td>\n",
       "      <td>0.050680</td>\n",
       "      <td>-0.015906</td>\n",
       "      <td>-0.067642</td>\n",
       "      <td>0.049341</td>\n",
       "      <td>0.079165</td>\n",
       "      <td>-0.028674</td>\n",
       "      <td>0.034309</td>\n",
       "      <td>-0.018118</td>\n",
       "      <td>0.044485</td>\n",
       "    </tr>\n",
       "    <tr>\n",
       "      <th>439</th>\n",
       "      <td>0.041708</td>\n",
       "      <td>0.050680</td>\n",
       "      <td>-0.015906</td>\n",
       "      <td>0.017282</td>\n",
       "      <td>-0.037344</td>\n",
       "      <td>-0.013840</td>\n",
       "      <td>-0.024993</td>\n",
       "      <td>-0.011080</td>\n",
       "      <td>-0.046879</td>\n",
       "      <td>0.015491</td>\n",
       "    </tr>\n",
       "    <tr>\n",
       "      <th>440</th>\n",
       "      <td>-0.045472</td>\n",
       "      <td>-0.044642</td>\n",
       "      <td>0.039062</td>\n",
       "      <td>0.001215</td>\n",
       "      <td>0.016318</td>\n",
       "      <td>0.015283</td>\n",
       "      <td>-0.028674</td>\n",
       "      <td>0.026560</td>\n",
       "      <td>0.044528</td>\n",
       "      <td>-0.025930</td>\n",
       "    </tr>\n",
       "    <tr>\n",
       "      <th>441</th>\n",
       "      <td>-0.045472</td>\n",
       "      <td>-0.044642</td>\n",
       "      <td>-0.073030</td>\n",
       "      <td>-0.081414</td>\n",
       "      <td>0.083740</td>\n",
       "      <td>0.027809</td>\n",
       "      <td>0.173816</td>\n",
       "      <td>-0.039493</td>\n",
       "      <td>-0.004220</td>\n",
       "      <td>0.003064</td>\n",
       "    </tr>\n",
       "  </tbody>\n",
       "</table>\n",
       "<p>442 rows × 10 columns</p>\n",
       "</div>"
      ],
      "text/plain": [
       "          age       sex       bmi        bp        s1        s2        s3  \\\n",
       "0    0.038076  0.050680  0.061696  0.021872 -0.044223 -0.034821 -0.043401   \n",
       "1   -0.001882 -0.044642 -0.051474 -0.026328 -0.008449 -0.019163  0.074412   \n",
       "2    0.085299  0.050680  0.044451 -0.005671 -0.045599 -0.034194 -0.032356   \n",
       "3   -0.089063 -0.044642 -0.011595 -0.036656  0.012191  0.024991 -0.036038   \n",
       "4    0.005383 -0.044642 -0.036385  0.021872  0.003935  0.015596  0.008142   \n",
       "..        ...       ...       ...       ...       ...       ...       ...   \n",
       "437  0.041708  0.050680  0.019662  0.059744 -0.005697 -0.002566 -0.028674   \n",
       "438 -0.005515  0.050680 -0.015906 -0.067642  0.049341  0.079165 -0.028674   \n",
       "439  0.041708  0.050680 -0.015906  0.017282 -0.037344 -0.013840 -0.024993   \n",
       "440 -0.045472 -0.044642  0.039062  0.001215  0.016318  0.015283 -0.028674   \n",
       "441 -0.045472 -0.044642 -0.073030 -0.081414  0.083740  0.027809  0.173816   \n",
       "\n",
       "           s4        s5        s6  \n",
       "0   -0.002592  0.019908 -0.017646  \n",
       "1   -0.039493 -0.068330 -0.092204  \n",
       "2   -0.002592  0.002864 -0.025930  \n",
       "3    0.034309  0.022692 -0.009362  \n",
       "4   -0.002592 -0.031991 -0.046641  \n",
       "..        ...       ...       ...  \n",
       "437 -0.002592  0.031193  0.007207  \n",
       "438  0.034309 -0.018118  0.044485  \n",
       "439 -0.011080 -0.046879  0.015491  \n",
       "440  0.026560  0.044528 -0.025930  \n",
       "441 -0.039493 -0.004220  0.003064  \n",
       "\n",
       "[442 rows x 10 columns]"
      ]
     },
     "execution_count": 57,
     "metadata": {},
     "output_type": "execute_result"
    }
   ],
   "source": [
    "X"
   ]
  },
  {
   "cell_type": "code",
   "execution_count": 55,
   "metadata": {},
   "outputs": [
    {
     "data": {
      "text/plain": [
       "442"
      ]
     },
     "execution_count": 55,
     "metadata": {},
     "output_type": "execute_result"
    }
   ],
   "source": [
    "len(y)"
   ]
  },
  {
   "cell_type": "markdown",
   "metadata": {
    "colab_type": "text",
    "id": "j1Vsh6cm1Kdv"
   },
   "source": [
    "### Split the data (training/test)"
   ]
  },
  {
   "cell_type": "code",
   "execution_count": 33,
   "metadata": {
    "colab": {},
    "colab_type": "code",
    "id": "O341llJz1Kdw"
   },
   "outputs": [],
   "source": [
    "# insert code here\n",
    "\n",
    "from sklearn.model_selection import train_test_split"
   ]
  },
  {
   "cell_type": "code",
   "execution_count": 58,
   "metadata": {},
   "outputs": [],
   "source": [
    "X_train, X_test, y_train, y_test = train_test_split(X,y, test_size=0.3, random_state=1 )"
   ]
  },
  {
   "cell_type": "code",
   "execution_count": 64,
   "metadata": {},
   "outputs": [
    {
     "data": {
      "text/plain": [
       "(309, 10)"
      ]
     },
     "execution_count": 64,
     "metadata": {},
     "output_type": "execute_result"
    }
   ],
   "source": []
  },
  {
   "cell_type": "code",
   "execution_count": null,
   "metadata": {},
   "outputs": [],
   "source": []
  },
  {
   "cell_type": "markdown",
   "metadata": {
    "colab_type": "text",
    "id": "o4dJViJD1Kd0"
   },
   "source": [
    "### Create the model's architecture"
   ]
  },
  {
   "cell_type": "code",
   "execution_count": 117,
   "metadata": {},
   "outputs": [],
   "source": [
    "model = keras.Sequential()\n",
    "model.add(keras.layers.Flatten())\n",
    "model.add(keras.layers.Dense(192, activation='relu'))\n",
    "model.add(keras.layers.Dense(128, activation='relu'))\n",
    "model.add(keras.layers.Dense(64, activation='relu'))\n",
    "model.add(keras.layers.Dense(32, activation='relu'))\n",
    "model.add(keras.layers.Dense(1, activation='relu'))\n",
    "\n",
    "learn=0.001\n",
    "opt = Adam(learn)\n"
   ]
  },
  {
   "cell_type": "code",
   "execution_count": 118,
   "metadata": {},
   "outputs": [],
   "source": [
    "# model = keras.Sequential()\n",
    "# for i in range(20):\n",
    "#     model.add(keras.layers.Dense(192, activation='relu'))\n",
    "# model.add(keras.layers.Dense(1, activation='relu'))"
   ]
  },
  {
   "cell_type": "markdown",
   "metadata": {
    "colab_type": "text",
    "id": "5hQTS42V1Kd4"
   },
   "source": [
    "### Compile the model"
   ]
  },
  {
   "cell_type": "code",
   "execution_count": 119,
   "metadata": {
    "colab": {},
    "colab_type": "code",
    "id": "BvLsoanF1Kd5"
   },
   "outputs": [],
   "source": [
    "# insert code here\n",
    "learn=0.001\n",
    "opt = Adam(learn)\n",
    "model.compile(optimizer=opt,\n",
    "             loss='mean_squared_error')\n",
    "\n"
   ]
  },
  {
   "cell_type": "markdown",
   "metadata": {
    "colab_type": "text",
    "id": "6KPQbnEj1Kd7"
   },
   "source": [
    "### Fit the training data"
   ]
  },
  {
   "cell_type": "code",
   "execution_count": 120,
   "metadata": {
    "colab": {},
    "colab_type": "code",
    "id": "-oiuHjEj1Kd8"
   },
   "outputs": [
    {
     "name": "stdout",
     "output_type": "stream",
     "text": [
      "Epoch 1/100\n",
      "10/10 [==============================] - 0s 1ms/step - loss: 30023.2715\n",
      "Epoch 2/100\n",
      "10/10 [==============================] - 0s 997us/step - loss: 29932.2031\n",
      "Epoch 3/100\n",
      "10/10 [==============================] - 0s 1ms/step - loss: 29623.6016\n",
      "Epoch 4/100\n",
      "10/10 [==============================] - 0s 930us/step - loss: 28620.3203\n",
      "Epoch 5/100\n",
      "10/10 [==============================] - 0s 956us/step - loss: 25866.2773\n",
      "Epoch 6/100\n",
      "10/10 [==============================] - 0s 1ms/step - loss: 19733.3809\n",
      "Epoch 7/100\n",
      "10/10 [==============================] - 0s 887us/step - loss: 10484.9375\n",
      "Epoch 8/100\n",
      "10/10 [==============================] - 0s 997us/step - loss: 4990.8164\n",
      "Epoch 9/100\n",
      "10/10 [==============================] - 0s 886us/step - loss: 4656.5215\n",
      "Epoch 10/100\n",
      "10/10 [==============================] - 0s 776us/step - loss: 3922.9465\n",
      "Epoch 11/100\n",
      "10/10 [==============================] - 0s 997us/step - loss: 3813.2439\n",
      "Epoch 12/100\n",
      "10/10 [==============================] - 0s 886us/step - loss: 3585.7859\n",
      "Epoch 13/100\n",
      "10/10 [==============================] - 0s 776us/step - loss: 3486.2371\n",
      "Epoch 14/100\n",
      "10/10 [==============================] - 0s 997us/step - loss: 3400.3362\n",
      "Epoch 15/100\n",
      "10/10 [==============================] - 0s 887us/step - loss: 3322.8982\n",
      "Epoch 16/100\n",
      "10/10 [==============================] - 0s 997us/step - loss: 3247.8154\n",
      "Epoch 17/100\n",
      "10/10 [==============================] - 0s 997us/step - loss: 3196.6338\n",
      "Epoch 18/100\n",
      "10/10 [==============================] - 0s 776us/step - loss: 3161.6836\n",
      "Epoch 19/100\n",
      "10/10 [==============================] - 0s 997us/step - loss: 3105.7683\n",
      "Epoch 20/100\n",
      "10/10 [==============================] - 0s 887us/step - loss: 3082.2612\n",
      "Epoch 21/100\n",
      "10/10 [==============================] - 0s 886us/step - loss: 3044.5977\n",
      "Epoch 22/100\n",
      "10/10 [==============================] - 0s 997us/step - loss: 3041.4849\n",
      "Epoch 23/100\n",
      "10/10 [==============================] - 0s 886us/step - loss: 3021.4038\n",
      "Epoch 24/100\n",
      "10/10 [==============================] - 0s 886us/step - loss: 2982.8652\n",
      "Epoch 25/100\n",
      "10/10 [==============================] - 0s 997us/step - loss: 2965.8625\n",
      "Epoch 26/100\n",
      "10/10 [==============================] - 0s 887us/step - loss: 2955.1143\n",
      "Epoch 27/100\n",
      "10/10 [==============================] - 0s 997us/step - loss: 2939.3877\n",
      "Epoch 28/100\n",
      "10/10 [==============================] - 0s 887us/step - loss: 2945.1482\n",
      "Epoch 29/100\n",
      "10/10 [==============================] - 0s 776us/step - loss: 2915.4509\n",
      "Epoch 30/100\n",
      "10/10 [==============================] - 0s 997us/step - loss: 2913.7458\n",
      "Epoch 31/100\n",
      "10/10 [==============================] - 0s 776us/step - loss: 2923.8696\n",
      "Epoch 32/100\n",
      "10/10 [==============================] - 0s 886us/step - loss: 2903.7778\n",
      "Epoch 33/100\n",
      "10/10 [==============================] - 0s 997us/step - loss: 2917.2185\n",
      "Epoch 34/100\n",
      "10/10 [==============================] - 0s 776us/step - loss: 2890.0112\n",
      "Epoch 35/100\n",
      "10/10 [==============================] - 0s 997us/step - loss: 2893.0117\n",
      "Epoch 36/100\n",
      "10/10 [==============================] - 0s 997us/step - loss: 2890.5730\n",
      "Epoch 37/100\n",
      "10/10 [==============================] - 0s 887us/step - loss: 2895.8821\n",
      "Epoch 38/100\n",
      "10/10 [==============================] - 0s 997us/step - loss: 2882.1226\n",
      "Epoch 39/100\n",
      "10/10 [==============================] - 0s 887us/step - loss: 2891.6414\n",
      "Epoch 40/100\n",
      "10/10 [==============================] - 0s 886us/step - loss: 2901.0251\n",
      "Epoch 41/100\n",
      "10/10 [==============================] - 0s 997us/step - loss: 2876.1377\n",
      "Epoch 42/100\n",
      "10/10 [==============================] - 0s 776us/step - loss: 2881.5962\n",
      "Epoch 43/100\n",
      "10/10 [==============================] - 0s 997us/step - loss: 2870.2654\n",
      "Epoch 44/100\n",
      "10/10 [==============================] - 0s 886us/step - loss: 2859.9709\n",
      "Epoch 45/100\n",
      "10/10 [==============================] - 0s 776us/step - loss: 2858.6567\n",
      "Epoch 46/100\n",
      "10/10 [==============================] - 0s 997us/step - loss: 2850.1821\n",
      "Epoch 47/100\n",
      "10/10 [==============================] - 0s 887us/step - loss: 2849.1943\n",
      "Epoch 48/100\n",
      "10/10 [==============================] - 0s 886us/step - loss: 2852.0935\n",
      "Epoch 49/100\n",
      "10/10 [==============================] - 0s 997us/step - loss: 2858.3386\n",
      "Epoch 50/100\n",
      "10/10 [==============================] - 0s 776us/step - loss: 2847.5867\n",
      "Epoch 51/100\n",
      "10/10 [==============================] - 0s 886us/step - loss: 2849.5549\n",
      "Epoch 52/100\n",
      "10/10 [==============================] - 0s 997us/step - loss: 2853.1230\n",
      "Epoch 53/100\n",
      "10/10 [==============================] - 0s 776us/step - loss: 2870.7693\n",
      "Epoch 54/100\n",
      "10/10 [==============================] - 0s 997us/step - loss: 2832.7849\n",
      "Epoch 55/100\n",
      "10/10 [==============================] - 0s 887us/step - loss: 2850.0522\n",
      "Epoch 56/100\n",
      "10/10 [==============================] - 0s 1ms/step - loss: 2841.6912\n",
      "Epoch 57/100\n",
      "10/10 [==============================] - 0s 1ms/step - loss: 2911.2317\n",
      "Epoch 58/100\n",
      "10/10 [==============================] - 0s 1ms/step - loss: 2829.7437\n",
      "Epoch 59/100\n",
      "10/10 [==============================] - 0s 776us/step - loss: 2835.5540\n",
      "Epoch 60/100\n",
      "10/10 [==============================] - 0s 776us/step - loss: 2830.1431\n",
      "Epoch 61/100\n",
      "10/10 [==============================] - 0s 997us/step - loss: 2816.1145\n",
      "Epoch 62/100\n",
      "10/10 [==============================] - 0s 776us/step - loss: 2837.1821\n",
      "Epoch 63/100\n",
      "10/10 [==============================] - 0s 886us/step - loss: 2824.4148\n",
      "Epoch 64/100\n",
      "10/10 [==============================] - 0s 776us/step - loss: 2815.3027\n",
      "Epoch 65/100\n",
      "10/10 [==============================] - 0s 886us/step - loss: 2852.0952\n",
      "Epoch 66/100\n",
      "10/10 [==============================] - 0s 776us/step - loss: 2825.4548\n",
      "Epoch 67/100\n",
      "10/10 [==============================] - 0s 776us/step - loss: 2799.8596\n",
      "Epoch 68/100\n",
      "10/10 [==============================] - 0s 997us/step - loss: 2815.2527\n",
      "Epoch 69/100\n",
      "10/10 [==============================] - 0s 776us/step - loss: 2821.4844\n",
      "Epoch 70/100\n",
      "10/10 [==============================] - 0s 886us/step - loss: 2810.4038\n",
      "Epoch 71/100\n",
      "10/10 [==============================] - 0s 997us/step - loss: 2802.9773\n",
      "Epoch 72/100\n",
      "10/10 [==============================] - 0s 776us/step - loss: 2802.3655\n",
      "Epoch 73/100\n",
      "10/10 [==============================] - 0s 886us/step - loss: 2807.3005\n",
      "Epoch 74/100\n",
      "10/10 [==============================] - 0s 886us/step - loss: 2800.2988\n",
      "Epoch 75/100\n",
      "10/10 [==============================] - 0s 886us/step - loss: 2817.2329\n",
      "Epoch 76/100\n",
      "10/10 [==============================] - 0s 997us/step - loss: 2798.2974\n",
      "Epoch 77/100\n",
      "10/10 [==============================] - 0s 776us/step - loss: 2804.7402\n",
      "Epoch 78/100\n",
      "10/10 [==============================] - 0s 997us/step - loss: 2787.1580\n",
      "Epoch 79/100\n",
      "10/10 [==============================] - 0s 776us/step - loss: 2826.7078\n",
      "Epoch 80/100\n",
      "10/10 [==============================] - 0s 776us/step - loss: 2786.7754\n",
      "Epoch 81/100\n",
      "10/10 [==============================] - 0s 997us/step - loss: 2796.5178\n",
      "Epoch 82/100\n",
      "10/10 [==============================] - 0s 776us/step - loss: 2804.5667\n",
      "Epoch 83/100\n",
      "10/10 [==============================] - 0s 886us/step - loss: 2789.4629\n",
      "Epoch 84/100\n",
      "10/10 [==============================] - 0s 887us/step - loss: 2795.8984\n",
      "Epoch 85/100\n",
      "10/10 [==============================] - 0s 665us/step - loss: 2820.3245\n",
      "Epoch 86/100\n",
      "10/10 [==============================] - 0s 886us/step - loss: 2806.3796\n",
      "Epoch 87/100\n",
      "10/10 [==============================] - 0s 776us/step - loss: 2798.5938\n",
      "Epoch 88/100\n",
      "10/10 [==============================] - 0s 887us/step - loss: 2765.8706\n",
      "Epoch 89/100\n",
      "10/10 [==============================] - 0s 887us/step - loss: 2789.0879\n",
      "Epoch 90/100\n",
      "10/10 [==============================] - 0s 776us/step - loss: 2792.0938\n",
      "Epoch 91/100\n",
      "10/10 [==============================] - 0s 997us/step - loss: 2766.8838\n",
      "Epoch 92/100\n",
      "10/10 [==============================] - 0s 887us/step - loss: 2781.8533\n",
      "Epoch 93/100\n",
      "10/10 [==============================] - 0s 887us/step - loss: 2768.6187\n",
      "Epoch 94/100\n",
      "10/10 [==============================] - 0s 886us/step - loss: 2770.3235\n",
      "Epoch 95/100\n",
      "10/10 [==============================] - 0s 776us/step - loss: 2769.9653\n",
      "Epoch 96/100\n"
     ]
    },
    {
     "name": "stdout",
     "output_type": "stream",
     "text": [
      "10/10 [==============================] - 0s 997us/step - loss: 2770.7200\n",
      "Epoch 97/100\n",
      "10/10 [==============================] - 0s 886us/step - loss: 2763.6941\n",
      "Epoch 98/100\n",
      "10/10 [==============================] - 0s 776us/step - loss: 2763.7058\n",
      "Epoch 99/100\n",
      "10/10 [==============================] - 0s 886us/step - loss: 2762.8882\n",
      "Epoch 100/100\n",
      "10/10 [==============================] - 0s 887us/step - loss: 2780.2983\n",
      "Wall time: 1.53 s\n"
     ]
    }
   ],
   "source": [
    "%%time\n",
    "# insert code here\n",
    "from sklearn.metrics import mean_squared_error\n",
    "from sklearn.metrics import r2_score\n",
    "\n",
    "history = model.fit(X_train, y_train, epochs=100)\n",
    "\n",
    "y_pred = model.predict(X_test)\n",
    "\n",
    "\n"
   ]
  },
  {
   "cell_type": "markdown",
   "metadata": {
    "colab_type": "text",
    "id": "CR-kCu3c1Kd-"
   },
   "source": [
    "### Create predictions"
   ]
  },
  {
   "cell_type": "markdown",
   "metadata": {
    "colab_type": "text",
    "id": "-unEmrGo1KeA"
   },
   "source": [
    "### Evaluate the model"
   ]
  },
  {
   "cell_type": "code",
   "execution_count": 122,
   "metadata": {
    "colab": {},
    "colab_type": "code",
    "id": "QCIVpVrG1KeB"
   },
   "outputs": [
    {
     "name": "stdout",
     "output_type": "stream",
     "text": [
      "2818.434172120079\n",
      "0.44017251605167995\n"
     ]
    }
   ],
   "source": [
    "# insert code here\n",
    "\n",
    "print(mean_squared_error(y_test, y_pred))\n",
    "print(r2_score(y_test, y_pred))"
   ]
  },
  {
   "cell_type": "markdown",
   "metadata": {
    "colab_type": "text",
    "id": "sSlqjs7e1KeD"
   },
   "source": [
    "### Visualisation of cost"
   ]
  },
  {
   "cell_type": "code",
   "execution_count": 123,
   "metadata": {
    "colab": {},
    "colab_type": "code",
    "id": "1F6hYpNh1KeE",
    "scrolled": true
   },
   "outputs": [],
   "source": [
    "# insert code here\n",
    "\n",
    "history_dict = history.history"
   ]
  },
  {
   "cell_type": "code",
   "execution_count": 125,
   "metadata": {},
   "outputs": [
    {
     "data": {
      "text/plain": [
       "100"
      ]
     },
     "execution_count": 125,
     "metadata": {},
     "output_type": "execute_result"
    }
   ],
   "source": [
    "len(history_dict['loss'])"
   ]
  },
  {
   "cell_type": "code",
   "execution_count": 148,
   "metadata": {},
   "outputs": [
    {
     "data": {
      "image/png": "[encoded data removed]",
      "text/plain": [
       "<Figure size 864x576 with 1 Axes>"
      ]
     },
     "metadata": {
      "needs_background": "light"
     },
     "output_type": "display_data"
    }
   ],
   "source": [
    "length = len(history_dict['loss'])\n",
    "\n",
    "plt.figure(figsize=(12,8))\n",
    "plt.plot(range(1, length+1), history_dict['loss'])\n",
    "plt.show()"
   ]
  },
  {
   "cell_type": "markdown",
   "metadata": {
    "colab_type": "text",
    "id": "vQLzMZTM1KeG"
   },
   "source": [
    "### Visualisation of residuals"
   ]
  },
  {
   "cell_type": "code",
   "execution_count": 0,
   "metadata": {
    "colab": {},
    "colab_type": "code",
    "id": "opIulVSw1KeH"
   },
   "outputs": [],
   "source": [
    "# insert code here"
   ]
  },
  {
   "cell_type": "markdown",
   "metadata": {
    "colab_type": "text",
    "id": "RERADKgNFq9T"
   },
   "source": [
    "\n",
    "\n",
    "---\n",
    "\n",
    "\n",
    "\n",
    "---\n",
    "\n",
    "\n",
    "\n",
    "> > > > > > > > > © 2021 Institute of Data\n",
    "\n",
    "\n",
    "---\n",
    "\n",
    "\n",
    "\n",
    "---\n",
    "\n",
    "\n",
    "\n"
   ]
  }
 ],
 "metadata": {
  "colab": {
   "collapsed_sections": [],
   "name": "DSIA Lab-10_1.ipynb",
   "provenance": []
  },
  "kernelspec": {
   "display_name": "Python 3",
   "language": "python",
   "name": "python3"
  },
  "language_info": {
   "codemirror_mode": {
    "name": "ipython",
    "version": 3
   },
   "file_extension": ".py",
   "mimetype": "text/x-python",
   "name": "python",
   "nbconvert_exporter": "python",
   "pygments_lexer": "ipython3",
   "version": "3.8.8"
  }
 },
 "nbformat": 4,
 "nbformat_minor": 1
}
