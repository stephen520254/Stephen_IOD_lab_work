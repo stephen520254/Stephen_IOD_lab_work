{
 "cells": [
  {
   "cell_type": "code",
   "execution_count": 2,
   "metadata": {},
   "outputs": [],
   "source": [
    "#https://www.kaggle.com/gpreda/covid-world-vaccination-progress"
   ]
  },
  {
   "cell_type": "code",
   "execution_count": 1,
   "metadata": {},
   "outputs": [],
   "source": [
    "import numpy as np\n",
    "import pandas as pd\n",
    "import matplotlib.pyplot as plt\n",
    "%matplotlib inline\n",
    "import seaborn as sns\n",
    "sns.set_theme()\n",
    "#plt.style.use('ggplot')\n",
    "plt.rcParams['figure.figsize']=(15,12)\n",
    "pd.set_option('display.max_rows', None)\n",
    "from scipy import stats\n",
    "import warnings\n",
    "warnings.filterwarnings(\"ignore\")"
   ]
  },
  {
   "cell_type": "code",
   "execution_count": null,
   "metadata": {},
   "outputs": [],
   "source": []
  },
  {
   "cell_type": "code",
   "execution_count": 2,
   "metadata": {},
   "outputs": [],
   "source": [
    "daily = pd.read_csv('worldometer_coronavirus_daily_data.csv')\n",
    "summary = pd.read_csv('worldometer_covid_5Aug21.csv')\n",
    "vac_by_cty = pd.read_csv('country_vaccinations_v2.csv')"
   ]
  },
  {
   "cell_type": "code",
   "execution_count": 3,
   "metadata": {},
   "outputs": [],
   "source": [
    "summary.drop('Unnamed: 12', axis=1, inplace=True)"
   ]
  },
  {
   "cell_type": "code",
   "execution_count": 11,
   "metadata": {},
   "outputs": [
    {
     "data": {
      "text/plain": [
       "(106284, 7)"
      ]
     },
     "execution_count": 11,
     "metadata": {},
     "output_type": "execute_result"
    }
   ],
   "source": [
    "daily.shape"
   ]
  },
  {
   "cell_type": "code",
   "execution_count": 5,
   "metadata": {},
   "outputs": [
    {
     "data": {
      "text/plain": [
       "(34261, 15)"
      ]
     },
     "execution_count": 5,
     "metadata": {},
     "output_type": "execute_result"
    }
   ],
   "source": [
    "# review dataframe\n",
    "\n",
    "vac_by_cty.shape"
   ]
  },
  {
   "cell_type": "code",
   "execution_count": 6,
   "metadata": {},
   "outputs": [],
   "source": [
    "# fill nan with zero\n",
    "\n",
    "vac_by_cty.fillna(0, inplace=True)"
   ]
  },
  {
   "cell_type": "code",
   "execution_count": 7,
   "metadata": {},
   "outputs": [
    {
     "data": {
      "text/html": [
       "<div>\n",
       "<style scoped>\n",
       "    .dataframe tbody tr th:only-of-type {\n",
       "        vertical-align: middle;\n",
       "    }\n",
       "\n",
       "    .dataframe tbody tr th {\n",
       "        vertical-align: top;\n",
       "    }\n",
       "\n",
       "    .dataframe thead th {\n",
       "        text-align: right;\n",
       "    }\n",
       "</style>\n",
       "<table border=\"1\" class=\"dataframe\">\n",
       "  <thead>\n",
       "    <tr style=\"text-align: right;\">\n",
       "      <th></th>\n",
       "      <th>country</th>\n",
       "      <th>continent</th>\n",
       "      <th>total_confirmed</th>\n",
       "      <th>total_deaths</th>\n",
       "      <th>total_recovered</th>\n",
       "      <th>active_cases</th>\n",
       "      <th>serious_or_critical</th>\n",
       "      <th>total_cases_per_1m_population</th>\n",
       "      <th>total_deaths_per_1m_population</th>\n",
       "      <th>total_tests</th>\n",
       "      <th>total_tests_per_1m_population</th>\n",
       "      <th>population</th>\n",
       "      <th>pct_death</th>\n",
       "      <th>pct_rec</th>\n",
       "      <th>pct_confirmed</th>\n",
       "      <th>pct_tests</th>\n",
       "    </tr>\n",
       "  </thead>\n",
       "  <tbody>\n",
       "    <tr>\n",
       "      <th>0</th>\n",
       "      <td>Afghanistan</td>\n",
       "      <td>Asia</td>\n",
       "      <td>149361</td>\n",
       "      <td>6864.0</td>\n",
       "      <td>101329.0</td>\n",
       "      <td>41168.0</td>\n",
       "      <td>1124.0</td>\n",
       "      <td>3745.0</td>\n",
       "      <td>172.0</td>\n",
       "      <td>718276.0</td>\n",
       "      <td>18010.0</td>\n",
       "      <td>39881090</td>\n",
       "      <td>0.000172</td>\n",
       "      <td>0.002541</td>\n",
       "      <td>0.003745</td>\n",
       "      <td>0.018010</td>\n",
       "    </tr>\n",
       "    <tr>\n",
       "      <th>1</th>\n",
       "      <td>Albania</td>\n",
       "      <td>Europe</td>\n",
       "      <td>133310</td>\n",
       "      <td>2457.0</td>\n",
       "      <td>130314.0</td>\n",
       "      <td>539.0</td>\n",
       "      <td>3.0</td>\n",
       "      <td>46379.0</td>\n",
       "      <td>855.0</td>\n",
       "      <td>916777.0</td>\n",
       "      <td>318949.0</td>\n",
       "      <td>2874366</td>\n",
       "      <td>0.000855</td>\n",
       "      <td>0.045337</td>\n",
       "      <td>0.046379</td>\n",
       "      <td>0.318949</td>\n",
       "    </tr>\n",
       "    <tr>\n",
       "      <th>2</th>\n",
       "      <td>Algeria</td>\n",
       "      <td>Africa</td>\n",
       "      <td>176724</td>\n",
       "      <td>4404.0</td>\n",
       "      <td>118409.0</td>\n",
       "      <td>53911.0</td>\n",
       "      <td>37.0</td>\n",
       "      <td>3952.0</td>\n",
       "      <td>98.0</td>\n",
       "      <td>230861.0</td>\n",
       "      <td>5163.0</td>\n",
       "      <td>44712451</td>\n",
       "      <td>0.000098</td>\n",
       "      <td>0.002648</td>\n",
       "      <td>0.003952</td>\n",
       "      <td>0.005163</td>\n",
       "    </tr>\n",
       "    <tr>\n",
       "      <th>3</th>\n",
       "      <td>Andorra</td>\n",
       "      <td>Europe</td>\n",
       "      <td>14797</td>\n",
       "      <td>128.0</td>\n",
       "      <td>14380.0</td>\n",
       "      <td>289.0</td>\n",
       "      <td>NaN</td>\n",
       "      <td>191176.0</td>\n",
       "      <td>1654.0</td>\n",
       "      <td>193595.0</td>\n",
       "      <td>2501227.0</td>\n",
       "      <td>77400</td>\n",
       "      <td>0.001654</td>\n",
       "      <td>0.185788</td>\n",
       "      <td>0.191176</td>\n",
       "      <td>2.501227</td>\n",
       "    </tr>\n",
       "    <tr>\n",
       "      <th>4</th>\n",
       "      <td>Angola</td>\n",
       "      <td>Africa</td>\n",
       "      <td>43158</td>\n",
       "      <td>1026.0</td>\n",
       "      <td>39582.0</td>\n",
       "      <td>2550.0</td>\n",
       "      <td>8.0</td>\n",
       "      <td>1270.0</td>\n",
       "      <td>30.0</td>\n",
       "      <td>821071.0</td>\n",
       "      <td>24167.0</td>\n",
       "      <td>33975047</td>\n",
       "      <td>0.000030</td>\n",
       "      <td>0.001165</td>\n",
       "      <td>0.001270</td>\n",
       "      <td>0.024167</td>\n",
       "    </tr>\n",
       "  </tbody>\n",
       "</table>\n",
       "</div>"
      ],
      "text/plain": [
       "       country continent  total_confirmed  total_deaths  total_recovered  \\\n",
       "0  Afghanistan      Asia           149361        6864.0         101329.0   \n",
       "1      Albania    Europe           133310        2457.0         130314.0   \n",
       "2      Algeria    Africa           176724        4404.0         118409.0   \n",
       "3      Andorra    Europe            14797         128.0          14380.0   \n",
       "4       Angola    Africa            43158        1026.0          39582.0   \n",
       "\n",
       "   active_cases  serious_or_critical  total_cases_per_1m_population  \\\n",
       "0       41168.0               1124.0                         3745.0   \n",
       "1         539.0                  3.0                        46379.0   \n",
       "2       53911.0                 37.0                         3952.0   \n",
       "3         289.0                  NaN                       191176.0   \n",
       "4        2550.0                  8.0                         1270.0   \n",
       "\n",
       "   total_deaths_per_1m_population  total_tests  total_tests_per_1m_population  \\\n",
       "0                           172.0     718276.0                        18010.0   \n",
       "1                           855.0     916777.0                       318949.0   \n",
       "2                            98.0     230861.0                         5163.0   \n",
       "3                          1654.0     193595.0                      2501227.0   \n",
       "4                            30.0     821071.0                        24167.0   \n",
       "\n",
       "   population  pct_death   pct_rec  pct_confirmed  pct_tests  \n",
       "0    39881090   0.000172  0.002541       0.003745   0.018010  \n",
       "1     2874366   0.000855  0.045337       0.046379   0.318949  \n",
       "2    44712451   0.000098  0.002648       0.003952   0.005163  \n",
       "3       77400   0.001654  0.185788       0.191176   2.501227  \n",
       "4    33975047   0.000030  0.001165       0.001270   0.024167  "
      ]
     },
     "execution_count": 7,
     "metadata": {},
     "output_type": "execute_result"
    }
   ],
   "source": [
    "# create an additional column 'pct_death'\n",
    "\n",
    "summary['pct_death'] = summary['total_deaths']/summary['population']\n",
    "summary['pct_rec'] = summary['total_recovered']/summary['population']\n",
    "summary['pct_confirmed'] = summary['total_confirmed']/summary['population']\n",
    "summary['pct_tests'] = summary['total_tests']/summary['population']\n",
    "summary.head()"
   ]
  },
  {
   "cell_type": "code",
   "execution_count": 8,
   "metadata": {},
   "outputs": [
    {
     "data": {
      "text/html": [
       "<div>\n",
       "<style scoped>\n",
       "    .dataframe tbody tr th:only-of-type {\n",
       "        vertical-align: middle;\n",
       "    }\n",
       "\n",
       "    .dataframe tbody tr th {\n",
       "        vertical-align: top;\n",
       "    }\n",
       "\n",
       "    .dataframe thead th {\n",
       "        text-align: right;\n",
       "    }\n",
       "</style>\n",
       "<table border=\"1\" class=\"dataframe\">\n",
       "  <thead>\n",
       "    <tr style=\"text-align: right;\">\n",
       "      <th></th>\n",
       "      <th>country</th>\n",
       "      <th>iso_code</th>\n",
       "      <th>date</th>\n",
       "      <th>total_vaccinations</th>\n",
       "      <th>people_vaccinated</th>\n",
       "      <th>people_fully_vaccinated</th>\n",
       "      <th>daily_vaccinations_raw</th>\n",
       "      <th>daily_vaccinations</th>\n",
       "      <th>total_vaccinations_per_hundred</th>\n",
       "      <th>people_vaccinated_per_hundred</th>\n",
       "      <th>people_fully_vaccinated_per_hundred</th>\n",
       "      <th>daily_vaccinations_per_million</th>\n",
       "      <th>vaccines</th>\n",
       "      <th>source_name</th>\n",
       "      <th>source_website</th>\n",
       "      <th>pct_vac</th>\n",
       "    </tr>\n",
       "  </thead>\n",
       "  <tbody>\n",
       "    <tr>\n",
       "      <th>0</th>\n",
       "      <td>Afghanistan</td>\n",
       "      <td>AFG</td>\n",
       "      <td>2021-02-22</td>\n",
       "      <td>0.0</td>\n",
       "      <td>0.0</td>\n",
       "      <td>0.0</td>\n",
       "      <td>0.0</td>\n",
       "      <td>0.0</td>\n",
       "      <td>0.0</td>\n",
       "      <td>0.0</td>\n",
       "      <td>0.0</td>\n",
       "      <td>0.0</td>\n",
       "      <td>Johnson&amp;Johnson, Oxford/AstraZeneca, Pfizer/Bi...</td>\n",
       "      <td>World Health Organization</td>\n",
       "      <td>https://covid19.who.int/</td>\n",
       "      <td>0.0</td>\n",
       "    </tr>\n",
       "    <tr>\n",
       "      <th>1</th>\n",
       "      <td>Afghanistan</td>\n",
       "      <td>AFG</td>\n",
       "      <td>2021-02-23</td>\n",
       "      <td>0.0</td>\n",
       "      <td>0.0</td>\n",
       "      <td>0.0</td>\n",
       "      <td>0.0</td>\n",
       "      <td>1367.0</td>\n",
       "      <td>0.0</td>\n",
       "      <td>0.0</td>\n",
       "      <td>0.0</td>\n",
       "      <td>35.0</td>\n",
       "      <td>Johnson&amp;Johnson, Oxford/AstraZeneca, Pfizer/Bi...</td>\n",
       "      <td>World Health Organization</td>\n",
       "      <td>https://covid19.who.int/</td>\n",
       "      <td>0.0</td>\n",
       "    </tr>\n",
       "    <tr>\n",
       "      <th>2</th>\n",
       "      <td>Afghanistan</td>\n",
       "      <td>AFG</td>\n",
       "      <td>2021-02-24</td>\n",
       "      <td>0.0</td>\n",
       "      <td>0.0</td>\n",
       "      <td>0.0</td>\n",
       "      <td>0.0</td>\n",
       "      <td>1367.0</td>\n",
       "      <td>0.0</td>\n",
       "      <td>0.0</td>\n",
       "      <td>0.0</td>\n",
       "      <td>35.0</td>\n",
       "      <td>Johnson&amp;Johnson, Oxford/AstraZeneca, Pfizer/Bi...</td>\n",
       "      <td>World Health Organization</td>\n",
       "      <td>https://covid19.who.int/</td>\n",
       "      <td>0.0</td>\n",
       "    </tr>\n",
       "    <tr>\n",
       "      <th>3</th>\n",
       "      <td>Afghanistan</td>\n",
       "      <td>AFG</td>\n",
       "      <td>2021-02-25</td>\n",
       "      <td>0.0</td>\n",
       "      <td>0.0</td>\n",
       "      <td>0.0</td>\n",
       "      <td>0.0</td>\n",
       "      <td>1367.0</td>\n",
       "      <td>0.0</td>\n",
       "      <td>0.0</td>\n",
       "      <td>0.0</td>\n",
       "      <td>35.0</td>\n",
       "      <td>Johnson&amp;Johnson, Oxford/AstraZeneca, Pfizer/Bi...</td>\n",
       "      <td>World Health Organization</td>\n",
       "      <td>https://covid19.who.int/</td>\n",
       "      <td>0.0</td>\n",
       "    </tr>\n",
       "    <tr>\n",
       "      <th>4</th>\n",
       "      <td>Afghanistan</td>\n",
       "      <td>AFG</td>\n",
       "      <td>2021-02-26</td>\n",
       "      <td>0.0</td>\n",
       "      <td>0.0</td>\n",
       "      <td>0.0</td>\n",
       "      <td>0.0</td>\n",
       "      <td>1367.0</td>\n",
       "      <td>0.0</td>\n",
       "      <td>0.0</td>\n",
       "      <td>0.0</td>\n",
       "      <td>35.0</td>\n",
       "      <td>Johnson&amp;Johnson, Oxford/AstraZeneca, Pfizer/Bi...</td>\n",
       "      <td>World Health Organization</td>\n",
       "      <td>https://covid19.who.int/</td>\n",
       "      <td>0.0</td>\n",
       "    </tr>\n",
       "  </tbody>\n",
       "</table>\n",
       "</div>"
      ],
      "text/plain": [
       "       country iso_code        date  total_vaccinations  people_vaccinated  \\\n",
       "0  Afghanistan      AFG  2021-02-22                 0.0                0.0   \n",
       "1  Afghanistan      AFG  2021-02-23                 0.0                0.0   \n",
       "2  Afghanistan      AFG  2021-02-24                 0.0                0.0   \n",
       "3  Afghanistan      AFG  2021-02-25                 0.0                0.0   \n",
       "4  Afghanistan      AFG  2021-02-26                 0.0                0.0   \n",
       "\n",
       "   people_fully_vaccinated  daily_vaccinations_raw  daily_vaccinations  \\\n",
       "0                      0.0                     0.0                 0.0   \n",
       "1                      0.0                     0.0              1367.0   \n",
       "2                      0.0                     0.0              1367.0   \n",
       "3                      0.0                     0.0              1367.0   \n",
       "4                      0.0                     0.0              1367.0   \n",
       "\n",
       "   total_vaccinations_per_hundred  people_vaccinated_per_hundred  \\\n",
       "0                             0.0                            0.0   \n",
       "1                             0.0                            0.0   \n",
       "2                             0.0                            0.0   \n",
       "3                             0.0                            0.0   \n",
       "4                             0.0                            0.0   \n",
       "\n",
       "   people_fully_vaccinated_per_hundred  daily_vaccinations_per_million  \\\n",
       "0                                  0.0                             0.0   \n",
       "1                                  0.0                            35.0   \n",
       "2                                  0.0                            35.0   \n",
       "3                                  0.0                            35.0   \n",
       "4                                  0.0                            35.0   \n",
       "\n",
       "                                            vaccines  \\\n",
       "0  Johnson&Johnson, Oxford/AstraZeneca, Pfizer/Bi...   \n",
       "1  Johnson&Johnson, Oxford/AstraZeneca, Pfizer/Bi...   \n",
       "2  Johnson&Johnson, Oxford/AstraZeneca, Pfizer/Bi...   \n",
       "3  Johnson&Johnson, Oxford/AstraZeneca, Pfizer/Bi...   \n",
       "4  Johnson&Johnson, Oxford/AstraZeneca, Pfizer/Bi...   \n",
       "\n",
       "                 source_name            source_website  pct_vac  \n",
       "0  World Health Organization  https://covid19.who.int/      0.0  \n",
       "1  World Health Organization  https://covid19.who.int/      0.0  \n",
       "2  World Health Organization  https://covid19.who.int/      0.0  \n",
       "3  World Health Organization  https://covid19.who.int/      0.0  \n",
       "4  World Health Organization  https://covid19.who.int/      0.0  "
      ]
     },
     "execution_count": 8,
     "metadata": {},
     "output_type": "execute_result"
    }
   ],
   "source": [
    "# create an additional column 'pct_vac'\n",
    "\n",
    "vac_by_cty['pct_vac'] = vac_by_cty['people_fully_vaccinated_per_hundred']/100\n",
    "\n",
    "vac_by_cty.head()"
   ]
  },
  {
   "cell_type": "code",
   "execution_count": 9,
   "metadata": {},
   "outputs": [],
   "source": [
    "# captitalise every first letter in vac_by_cty_list_cty_names\n",
    "\n",
    "vac_by_cty['country'] = [cap.title() for cap in vac_by_cty['country']]"
   ]
  },
  {
   "cell_type": "code",
   "execution_count": 10,
   "metadata": {},
   "outputs": [],
   "source": [
    "# rename USA and UK to align with summary\n",
    "\n",
    "vac_by_cty.replace({'United States':'USA','United Kingdom':'UK'}, inplace=True)\n",
    "vac_by_cty_list_cty_names =vac_by_cty.country.unique().tolist()\n",
    "summary_list_cty_names = summary.country.unique().tolist()"
   ]
  },
  {
   "cell_type": "markdown",
   "metadata": {},
   "source": [
    "## Combining a few tables together"
   ]
  },
  {
   "cell_type": "code",
   "execution_count": 12,
   "metadata": {
    "scrolled": true
   },
   "outputs": [
    {
     "data": {
      "text/plain": [
       "['Antigua And Barbuda',\n",
       " 'Bosnia And Herzegovina',\n",
       " 'Kosovo',\n",
       " 'Tonga',\n",
       " 'Saint Kitts And Nevis',\n",
       " 'Turkmenistan',\n",
       " 'Sao Tome And Principe',\n",
       " 'Curacao',\n",
       " 'Tuvalu',\n",
       " 'Brunei',\n",
       " 'Turks And Caicos Islands',\n",
       " 'North Macedonia',\n",
       " 'Democratic Republic Of Congo',\n",
       " 'Eswatini',\n",
       " 'Trinidad And Tobago',\n",
       " 'Cape Verde',\n",
       " 'Wallis And Futuna',\n",
       " 'Nauru',\n",
       " 'Isle Of Man',\n",
       " 'Vietnam',\n",
       " 'Palestine',\n",
       " \"Cote D'Ivoire\",\n",
       " 'Timor',\n",
       " 'Niue',\n",
       " 'Scotland',\n",
       " 'England',\n",
       " 'Falkland Islands',\n",
       " 'Czechia',\n",
       " 'Cook Islands',\n",
       " 'Jersey',\n",
       " 'Northern Ireland',\n",
       " 'Macao',\n",
       " 'Northern Cyprus',\n",
       " 'Sint Maarten (Dutch Part)',\n",
       " 'Pitcairn',\n",
       " 'Hong Kong',\n",
       " 'Bonaire Sint Eustatius And Saba',\n",
       " 'Wales',\n",
       " 'Guernsey']"
      ]
     },
     "execution_count": 12,
     "metadata": {},
     "output_type": "execute_result"
    }
   ],
   "source": [
    "# find unique country of these 2 sets of data\n",
    "\n",
    "unique_cty = list(set(vac_by_cty_list_cty_names)-(set(summary_list_cty_names)))\n",
    "unique_cty"
   ]
  },
  {
   "cell_type": "code",
   "execution_count": 13,
   "metadata": {},
   "outputs": [],
   "source": [
    "#remove countries in the unique_cty list for vac_by_cty\n",
    "add=[]\n",
    "for i in unique_cty:\n",
    "    x = vac_by_cty[vac_by_cty.country==i]\n",
    "    add.append(x)\n",
    "add = pd.concat(add)\n",
    "\n",
    "add_idx=[]\n",
    "for y in add.index:\n",
    "    add_idx.append(y)\n",
    "    "
   ]
  },
  {
   "cell_type": "code",
   "execution_count": 14,
   "metadata": {},
   "outputs": [],
   "source": [
    "# remove these countries for vac_by_cty\n",
    "\n",
    "vac_by_cty.drop(index= add_idx, inplace=True)"
   ]
  },
  {
   "cell_type": "code",
   "execution_count": 15,
   "metadata": {},
   "outputs": [],
   "source": [
    "vac_by_cty_list_cty_names =vac_by_cty.country.unique().tolist()\n",
    "summary_list_cty_names = summary.country.unique().tolist()"
   ]
  },
  {
   "cell_type": "code",
   "execution_count": 16,
   "metadata": {
    "scrolled": true
   },
   "outputs": [
    {
     "data": {
      "text/plain": [
       "['Holy See',\n",
       " 'Channel Islands',\n",
       " 'Sint Maarten',\n",
       " 'Wallis and Futuna',\n",
       " 'Timor Leste',\n",
       " 'Burundi',\n",
       " 'Antigua and Barbuda',\n",
       " 'Cura?ao',\n",
       " 'Macedonia',\n",
       " 'Brunei Darussalam',\n",
       " 'Turks and Caicos Islands',\n",
       " 'Martinique',\n",
       " 'Saint Kitts and Nevis',\n",
       " 'China Macao Sar',\n",
       " 'Saint Martin',\n",
       " 'Trinidad and Tobago',\n",
       " 'Falkland Islands Malvinas',\n",
       " 'Tanzania',\n",
       " 'Reunion',\n",
       " 'Czech Republic',\n",
       " 'Caribbean Netherlands',\n",
       " 'State Of Palestine',\n",
       " 'Swaziland',\n",
       " 'Western Sahara',\n",
       " 'Sao Tome and Principe',\n",
       " 'Guadeloupe',\n",
       " 'Saint Pierre Miquelon',\n",
       " 'Viet Nam',\n",
       " 'Marshall Islands',\n",
       " 'Isle of Man',\n",
       " 'Mayotte',\n",
       " 'Eritrea',\n",
       " 'Cote D Ivoire',\n",
       " 'Saint Barthelemy',\n",
       " 'Micronesia',\n",
       " 'Bosnia and Herzegovina',\n",
       " 'Cabo Verde',\n",
       " 'China Hong Kong Sar',\n",
       " 'Democratic Republic Of The Congo',\n",
       " 'French Guiana']"
      ]
     },
     "execution_count": 16,
     "metadata": {},
     "output_type": "execute_result"
    }
   ],
   "source": [
    "# find unique country of these 2 sets of data vice versa\n",
    "\n",
    "unique_cty_a = list(set(summary_list_cty_names)-(set(vac_by_cty_list_cty_names)))\n",
    "unique_cty_a"
   ]
  },
  {
   "cell_type": "code",
   "execution_count": 17,
   "metadata": {},
   "outputs": [],
   "source": [
    "#remove countries in the unique_cty list for summary\n",
    "\n",
    "add=[]\n",
    "for i in unique_cty_a:\n",
    "    x = summary[summary.country==i]\n",
    "    add.append(x)\n",
    "add = pd.concat(add)\n",
    "\n",
    "add_idx=[]\n",
    "for y in add.index:\n",
    "    add_idx.append(y)"
   ]
  },
  {
   "cell_type": "code",
   "execution_count": 18,
   "metadata": {},
   "outputs": [],
   "source": [
    "# remove these countries for vac_by_cty\n",
    "\n",
    "summary.drop(index= add_idx, inplace=True)"
   ]
  },
  {
   "cell_type": "code",
   "execution_count": 19,
   "metadata": {},
   "outputs": [],
   "source": [
    "vac_by_cty_list_cty_names =vac_by_cty.country.unique().tolist()\n",
    "summary_list_cty_names = summary.country.unique().tolist()"
   ]
  },
  {
   "cell_type": "code",
   "execution_count": 20,
   "metadata": {},
   "outputs": [
    {
     "data": {
      "text/plain": [
       "count      180\n",
       "unique     180\n",
       "top       Peru\n",
       "freq         1\n",
       "Name: country, dtype: object"
      ]
     },
     "execution_count": 20,
     "metadata": {},
     "output_type": "execute_result"
    }
   ],
   "source": [
    "# check for uniqueness\n",
    "\n",
    "summary.country.describe()"
   ]
  },
  {
   "cell_type": "code",
   "execution_count": 21,
   "metadata": {},
   "outputs": [
    {
     "data": {
      "text/plain": [
       "count      29100\n",
       "unique       180\n",
       "top       Norway\n",
       "freq         239\n",
       "Name: country, dtype: object"
      ]
     },
     "execution_count": 21,
     "metadata": {},
     "output_type": "execute_result"
    }
   ],
   "source": [
    "# check for uniqueness\n",
    "\n",
    "vac_by_cty.country.describe()"
   ]
  },
  {
   "cell_type": "code",
   "execution_count": 22,
   "metadata": {},
   "outputs": [],
   "source": [
    "# replace nan with zero\n",
    "\n",
    "vac_by_cty.replace({np.nan:0}, inplace=True)"
   ]
  },
  {
   "cell_type": "code",
   "execution_count": 23,
   "metadata": {},
   "outputs": [],
   "source": [
    "# replace nan with zero\n",
    "\n",
    "summary.replace({np.nan:0}, inplace=True)"
   ]
  },
  {
   "cell_type": "code",
   "execution_count": 24,
   "metadata": {
    "scrolled": true
   },
   "outputs": [],
   "source": [
    "# rename summary.country to summary.country_1\n",
    "\n",
    "summary.rename(columns={'country':'country_1'}, inplace=True)"
   ]
  },
  {
   "cell_type": "code",
   "execution_count": 25,
   "metadata": {},
   "outputs": [
    {
     "data": {
      "text/html": [
       "<div>\n",
       "<style scoped>\n",
       "    .dataframe tbody tr th:only-of-type {\n",
       "        vertical-align: middle;\n",
       "    }\n",
       "\n",
       "    .dataframe tbody tr th {\n",
       "        vertical-align: top;\n",
       "    }\n",
       "\n",
       "    .dataframe thead th {\n",
       "        text-align: right;\n",
       "    }\n",
       "</style>\n",
       "<table border=\"1\" class=\"dataframe\">\n",
       "  <thead>\n",
       "    <tr style=\"text-align: right;\">\n",
       "      <th></th>\n",
       "      <th>country</th>\n",
       "      <th>iso_code</th>\n",
       "      <th>date</th>\n",
       "      <th>total_vaccinations</th>\n",
       "      <th>people_vaccinated</th>\n",
       "      <th>people_fully_vaccinated</th>\n",
       "      <th>daily_vaccinations_raw</th>\n",
       "      <th>daily_vaccinations</th>\n",
       "      <th>total_vaccinations_per_hundred</th>\n",
       "      <th>people_vaccinated_per_hundred</th>\n",
       "      <th>people_fully_vaccinated_per_hundred</th>\n",
       "      <th>daily_vaccinations_per_million</th>\n",
       "      <th>vaccines</th>\n",
       "      <th>source_name</th>\n",
       "      <th>source_website</th>\n",
       "      <th>pct_vac</th>\n",
       "    </tr>\n",
       "  </thead>\n",
       "  <tbody>\n",
       "    <tr>\n",
       "      <th>0</th>\n",
       "      <td>Afghanistan</td>\n",
       "      <td>AFG</td>\n",
       "      <td>2021-02-22</td>\n",
       "      <td>0.0</td>\n",
       "      <td>0.0</td>\n",
       "      <td>0.0</td>\n",
       "      <td>0.0</td>\n",
       "      <td>0.0</td>\n",
       "      <td>0.0</td>\n",
       "      <td>0.0</td>\n",
       "      <td>0.0</td>\n",
       "      <td>0.0</td>\n",
       "      <td>Johnson&amp;Johnson, Oxford/AstraZeneca, Pfizer/Bi...</td>\n",
       "      <td>World Health Organization</td>\n",
       "      <td>https://covid19.who.int/</td>\n",
       "      <td>0.0</td>\n",
       "    </tr>\n",
       "    <tr>\n",
       "      <th>1</th>\n",
       "      <td>Afghanistan</td>\n",
       "      <td>AFG</td>\n",
       "      <td>2021-02-23</td>\n",
       "      <td>0.0</td>\n",
       "      <td>0.0</td>\n",
       "      <td>0.0</td>\n",
       "      <td>0.0</td>\n",
       "      <td>1367.0</td>\n",
       "      <td>0.0</td>\n",
       "      <td>0.0</td>\n",
       "      <td>0.0</td>\n",
       "      <td>35.0</td>\n",
       "      <td>Johnson&amp;Johnson, Oxford/AstraZeneca, Pfizer/Bi...</td>\n",
       "      <td>World Health Organization</td>\n",
       "      <td>https://covid19.who.int/</td>\n",
       "      <td>0.0</td>\n",
       "    </tr>\n",
       "    <tr>\n",
       "      <th>2</th>\n",
       "      <td>Afghanistan</td>\n",
       "      <td>AFG</td>\n",
       "      <td>2021-02-24</td>\n",
       "      <td>0.0</td>\n",
       "      <td>0.0</td>\n",
       "      <td>0.0</td>\n",
       "      <td>0.0</td>\n",
       "      <td>1367.0</td>\n",
       "      <td>0.0</td>\n",
       "      <td>0.0</td>\n",
       "      <td>0.0</td>\n",
       "      <td>35.0</td>\n",
       "      <td>Johnson&amp;Johnson, Oxford/AstraZeneca, Pfizer/Bi...</td>\n",
       "      <td>World Health Organization</td>\n",
       "      <td>https://covid19.who.int/</td>\n",
       "      <td>0.0</td>\n",
       "    </tr>\n",
       "    <tr>\n",
       "      <th>3</th>\n",
       "      <td>Afghanistan</td>\n",
       "      <td>AFG</td>\n",
       "      <td>2021-02-25</td>\n",
       "      <td>0.0</td>\n",
       "      <td>0.0</td>\n",
       "      <td>0.0</td>\n",
       "      <td>0.0</td>\n",
       "      <td>1367.0</td>\n",
       "      <td>0.0</td>\n",
       "      <td>0.0</td>\n",
       "      <td>0.0</td>\n",
       "      <td>35.0</td>\n",
       "      <td>Johnson&amp;Johnson, Oxford/AstraZeneca, Pfizer/Bi...</td>\n",
       "      <td>World Health Organization</td>\n",
       "      <td>https://covid19.who.int/</td>\n",
       "      <td>0.0</td>\n",
       "    </tr>\n",
       "    <tr>\n",
       "      <th>4</th>\n",
       "      <td>Afghanistan</td>\n",
       "      <td>AFG</td>\n",
       "      <td>2021-02-26</td>\n",
       "      <td>0.0</td>\n",
       "      <td>0.0</td>\n",
       "      <td>0.0</td>\n",
       "      <td>0.0</td>\n",
       "      <td>1367.0</td>\n",
       "      <td>0.0</td>\n",
       "      <td>0.0</td>\n",
       "      <td>0.0</td>\n",
       "      <td>35.0</td>\n",
       "      <td>Johnson&amp;Johnson, Oxford/AstraZeneca, Pfizer/Bi...</td>\n",
       "      <td>World Health Organization</td>\n",
       "      <td>https://covid19.who.int/</td>\n",
       "      <td>0.0</td>\n",
       "    </tr>\n",
       "  </tbody>\n",
       "</table>\n",
       "</div>"
      ],
      "text/plain": [
       "       country iso_code        date  total_vaccinations  people_vaccinated  \\\n",
       "0  Afghanistan      AFG  2021-02-22                 0.0                0.0   \n",
       "1  Afghanistan      AFG  2021-02-23                 0.0                0.0   \n",
       "2  Afghanistan      AFG  2021-02-24                 0.0                0.0   \n",
       "3  Afghanistan      AFG  2021-02-25                 0.0                0.0   \n",
       "4  Afghanistan      AFG  2021-02-26                 0.0                0.0   \n",
       "\n",
       "   people_fully_vaccinated  daily_vaccinations_raw  daily_vaccinations  \\\n",
       "0                      0.0                     0.0                 0.0   \n",
       "1                      0.0                     0.0              1367.0   \n",
       "2                      0.0                     0.0              1367.0   \n",
       "3                      0.0                     0.0              1367.0   \n",
       "4                      0.0                     0.0              1367.0   \n",
       "\n",
       "   total_vaccinations_per_hundred  people_vaccinated_per_hundred  \\\n",
       "0                             0.0                            0.0   \n",
       "1                             0.0                            0.0   \n",
       "2                             0.0                            0.0   \n",
       "3                             0.0                            0.0   \n",
       "4                             0.0                            0.0   \n",
       "\n",
       "   people_fully_vaccinated_per_hundred  daily_vaccinations_per_million  \\\n",
       "0                                  0.0                             0.0   \n",
       "1                                  0.0                            35.0   \n",
       "2                                  0.0                            35.0   \n",
       "3                                  0.0                            35.0   \n",
       "4                                  0.0                            35.0   \n",
       "\n",
       "                                            vaccines  \\\n",
       "0  Johnson&Johnson, Oxford/AstraZeneca, Pfizer/Bi...   \n",
       "1  Johnson&Johnson, Oxford/AstraZeneca, Pfizer/Bi...   \n",
       "2  Johnson&Johnson, Oxford/AstraZeneca, Pfizer/Bi...   \n",
       "3  Johnson&Johnson, Oxford/AstraZeneca, Pfizer/Bi...   \n",
       "4  Johnson&Johnson, Oxford/AstraZeneca, Pfizer/Bi...   \n",
       "\n",
       "                 source_name            source_website  pct_vac  \n",
       "0  World Health Organization  https://covid19.who.int/      0.0  \n",
       "1  World Health Organization  https://covid19.who.int/      0.0  \n",
       "2  World Health Organization  https://covid19.who.int/      0.0  \n",
       "3  World Health Organization  https://covid19.who.int/      0.0  \n",
       "4  World Health Organization  https://covid19.who.int/      0.0  "
      ]
     },
     "execution_count": 25,
     "metadata": {},
     "output_type": "execute_result"
    }
   ],
   "source": [
    "vac_by_cty.head()"
   ]
  },
  {
   "cell_type": "code",
   "execution_count": 26,
   "metadata": {},
   "outputs": [],
   "source": [
    "# compute total vaccinations by country\n",
    "\n",
    "pct_vac = vac_by_cty.groupby('country')['pct_vac'].agg(np.sum).reset_index()"
   ]
  },
  {
   "cell_type": "code",
   "execution_count": 27,
   "metadata": {},
   "outputs": [
    {
     "data": {
      "text/html": [
       "<div>\n",
       "<style scoped>\n",
       "    .dataframe tbody tr th:only-of-type {\n",
       "        vertical-align: middle;\n",
       "    }\n",
       "\n",
       "    .dataframe tbody tr th {\n",
       "        vertical-align: top;\n",
       "    }\n",
       "\n",
       "    .dataframe thead th {\n",
       "        text-align: right;\n",
       "    }\n",
       "</style>\n",
       "<table border=\"1\" class=\"dataframe\">\n",
       "  <thead>\n",
       "    <tr style=\"text-align: right;\">\n",
       "      <th></th>\n",
       "      <th>country</th>\n",
       "      <th>pct_vac</th>\n",
       "    </tr>\n",
       "  </thead>\n",
       "  <tbody>\n",
       "    <tr>\n",
       "      <th>0</th>\n",
       "      <td>Afghanistan</td>\n",
       "      <td>0.0609</td>\n",
       "    </tr>\n",
       "    <tr>\n",
       "      <th>1</th>\n",
       "      <td>Albania</td>\n",
       "      <td>7.1263</td>\n",
       "    </tr>\n",
       "    <tr>\n",
       "      <th>2</th>\n",
       "      <td>Algeria</td>\n",
       "      <td>0.0165</td>\n",
       "    </tr>\n",
       "    <tr>\n",
       "      <th>3</th>\n",
       "      <td>Andorra</td>\n",
       "      <td>2.3226</td>\n",
       "    </tr>\n",
       "    <tr>\n",
       "      <th>4</th>\n",
       "      <td>Angola</td>\n",
       "      <td>0.1632</td>\n",
       "    </tr>\n",
       "  </tbody>\n",
       "</table>\n",
       "</div>"
      ],
      "text/plain": [
       "       country  pct_vac\n",
       "0  Afghanistan   0.0609\n",
       "1      Albania   7.1263\n",
       "2      Algeria   0.0165\n",
       "3      Andorra   2.3226\n",
       "4       Angola   0.1632"
      ]
     },
     "execution_count": 27,
     "metadata": {},
     "output_type": "execute_result"
    }
   ],
   "source": [
    "# review\n",
    "\n",
    "pct_vac.head()"
   ]
  },
  {
   "cell_type": "code",
   "execution_count": 28,
   "metadata": {},
   "outputs": [],
   "source": [
    "#reset index for summary\n",
    "\n",
    "summary.reset_index(drop=True, inplace=True)"
   ]
  },
  {
   "cell_type": "code",
   "execution_count": 29,
   "metadata": {},
   "outputs": [],
   "source": [
    "# compute a new dataframe consisting only of country and pct_death and continent\n",
    "\n",
    "pct_death = summary.loc[:, ['country_1','continent','pct_tests','pct_confirmed','pct_rec','pct_death','total_deaths','population']]"
   ]
  },
  {
   "cell_type": "code",
   "execution_count": 30,
   "metadata": {},
   "outputs": [
    {
     "data": {
      "text/plain": [
       "((180, 8), (180, 2))"
      ]
     },
     "execution_count": 30,
     "metadata": {},
     "output_type": "execute_result"
    }
   ],
   "source": [
    "pct_death.shape, pct_vac.shape"
   ]
  },
  {
   "cell_type": "markdown",
   "metadata": {},
   "source": [
    "## Ready for EDA"
   ]
  },
  {
   "cell_type": "code",
   "execution_count": 31,
   "metadata": {},
   "outputs": [],
   "source": [
    "# concatenate the 2 dataframes \n",
    "\n",
    "pct_death_vac = pd.concat([pct_vac,pct_death], axis=1)"
   ]
  },
  {
   "cell_type": "code",
   "execution_count": 32,
   "metadata": {},
   "outputs": [],
   "source": [
    "# drop country_1\n",
    "\n",
    "del pct_death_vac['country_1']"
   ]
  },
  {
   "cell_type": "code",
   "execution_count": 33,
   "metadata": {},
   "outputs": [
    {
     "data": {
      "text/html": [
       "<div>\n",
       "<style scoped>\n",
       "    .dataframe tbody tr th:only-of-type {\n",
       "        vertical-align: middle;\n",
       "    }\n",
       "\n",
       "    .dataframe tbody tr th {\n",
       "        vertical-align: top;\n",
       "    }\n",
       "\n",
       "    .dataframe thead th {\n",
       "        text-align: right;\n",
       "    }\n",
       "</style>\n",
       "<table border=\"1\" class=\"dataframe\">\n",
       "  <thead>\n",
       "    <tr style=\"text-align: right;\">\n",
       "      <th></th>\n",
       "      <th>country</th>\n",
       "      <th>pct_vac</th>\n",
       "      <th>continent</th>\n",
       "      <th>pct_tests</th>\n",
       "      <th>pct_confirmed</th>\n",
       "      <th>pct_rec</th>\n",
       "      <th>pct_death</th>\n",
       "      <th>total_deaths</th>\n",
       "      <th>population</th>\n",
       "    </tr>\n",
       "  </thead>\n",
       "  <tbody>\n",
       "    <tr>\n",
       "      <th>0</th>\n",
       "      <td>Afghanistan</td>\n",
       "      <td>0.0609</td>\n",
       "      <td>Asia</td>\n",
       "      <td>0.018010</td>\n",
       "      <td>0.003745</td>\n",
       "      <td>0.002541</td>\n",
       "      <td>0.000172</td>\n",
       "      <td>6864.0</td>\n",
       "      <td>39881090</td>\n",
       "    </tr>\n",
       "    <tr>\n",
       "      <th>1</th>\n",
       "      <td>Albania</td>\n",
       "      <td>7.1263</td>\n",
       "      <td>Europe</td>\n",
       "      <td>0.318949</td>\n",
       "      <td>0.046379</td>\n",
       "      <td>0.045337</td>\n",
       "      <td>0.000855</td>\n",
       "      <td>2457.0</td>\n",
       "      <td>2874366</td>\n",
       "    </tr>\n",
       "    <tr>\n",
       "      <th>2</th>\n",
       "      <td>Algeria</td>\n",
       "      <td>0.0165</td>\n",
       "      <td>Africa</td>\n",
       "      <td>0.005163</td>\n",
       "      <td>0.003952</td>\n",
       "      <td>0.002648</td>\n",
       "      <td>0.000098</td>\n",
       "      <td>4404.0</td>\n",
       "      <td>44712451</td>\n",
       "    </tr>\n",
       "    <tr>\n",
       "      <th>3</th>\n",
       "      <td>Andorra</td>\n",
       "      <td>2.3226</td>\n",
       "      <td>Europe</td>\n",
       "      <td>2.501227</td>\n",
       "      <td>0.191176</td>\n",
       "      <td>0.185788</td>\n",
       "      <td>0.001654</td>\n",
       "      <td>128.0</td>\n",
       "      <td>77400</td>\n",
       "    </tr>\n",
       "    <tr>\n",
       "      <th>4</th>\n",
       "      <td>Angola</td>\n",
       "      <td>0.1632</td>\n",
       "      <td>Africa</td>\n",
       "      <td>0.024167</td>\n",
       "      <td>0.001270</td>\n",
       "      <td>0.001165</td>\n",
       "      <td>0.000030</td>\n",
       "      <td>1026.0</td>\n",
       "      <td>33975047</td>\n",
       "    </tr>\n",
       "  </tbody>\n",
       "</table>\n",
       "</div>"
      ],
      "text/plain": [
       "       country  pct_vac continent  pct_tests  pct_confirmed   pct_rec  \\\n",
       "0  Afghanistan   0.0609      Asia   0.018010       0.003745  0.002541   \n",
       "1      Albania   7.1263    Europe   0.318949       0.046379  0.045337   \n",
       "2      Algeria   0.0165    Africa   0.005163       0.003952  0.002648   \n",
       "3      Andorra   2.3226    Europe   2.501227       0.191176  0.185788   \n",
       "4       Angola   0.1632    Africa   0.024167       0.001270  0.001165   \n",
       "\n",
       "   pct_death  total_deaths  population  \n",
       "0   0.000172        6864.0    39881090  \n",
       "1   0.000855        2457.0     2874366  \n",
       "2   0.000098        4404.0    44712451  \n",
       "3   0.001654         128.0       77400  \n",
       "4   0.000030        1026.0    33975047  "
      ]
     },
     "execution_count": 33,
     "metadata": {},
     "output_type": "execute_result"
    }
   ],
   "source": [
    "# review of dataframe after contenation\n",
    "\n",
    "pct_death_vac.head()"
   ]
  },
  {
   "cell_type": "code",
   "execution_count": 34,
   "metadata": {},
   "outputs": [],
   "source": [
    "# reorder columns\n",
    "\n",
    "pct_death_vac=pct_death_vac[['country','continent','pct_tests','pct_vac','pct_confirmed','pct_rec',\\\n",
    "                             'pct_death','total_deaths','population']]"
   ]
  },
  {
   "cell_type": "code",
   "execution_count": 35,
   "metadata": {},
   "outputs": [],
   "source": [
    "pct_death_vac.loc[168,'country']='Europe'\n",
    "pct_death_vac.loc[169,'country']='North America'"
   ]
  },
  {
   "cell_type": "markdown",
   "metadata": {},
   "source": [
    "### EDA"
   ]
  },
  {
   "cell_type": "code",
   "execution_count": 36,
   "metadata": {},
   "outputs": [
    {
     "data": {
      "image/png": "[encoded data removed]",
      "text/plain": [
       "<Figure size 1080x864 with 1 Axes>"
      ]
     },
     "metadata": {},
     "output_type": "display_data"
    }
   ],
   "source": [
    "# plot chart to show vaccination rates\n",
    "\n",
    "sns.set_style(\"darkgrid\")\n",
    "order = pct_death_vac.groupby('continent')['pct_vac'].mean().sort_values(ascending=False).index\n",
    "sns.barplot(data=pct_death_vac, x='pct_vac', y='continent', ci=None, order=order, palette='bright');\n",
    "plt.title('Proportion Of Population Vaccinated', fontsize=17);\n",
    "plt.xlabel('Proportion Vaccinated', fontsize=14);\n",
    "plt.ylabel('Continent', fontsize=14);"
   ]
  },
  {
   "cell_type": "code",
   "execution_count": 37,
   "metadata": {},
   "outputs": [
    {
     "data": {
      "image/png": "[encoded data removed]",
      "text/plain": [
       "<Figure size 1080x864 with 1 Axes>"
      ]
     },
     "metadata": {},
     "output_type": "display_data"
    }
   ],
   "source": [
    "# plot chart to show daily new cases rates\n",
    "\n",
    "order = pct_death_vac.groupby('continent')['pct_confirmed'].mean().sort_values(ascending=False).index\n",
    "sns.barplot(data=pct_death_vac, x='pct_confirmed', y='continent', ci=None, order=order, palette='mako');\n",
    "plt.title('Proportion Of Confirmed Cases To Population', fontsize=17);\n",
    "plt.xlabel('Proportion Of Confirmed Cases', fontsize=14);\n",
    "plt.ylabel('Continent', fontsize=14);"
   ]
  },
  {
   "cell_type": "code",
   "execution_count": 38,
   "metadata": {},
   "outputs": [
    {
     "data": {
      "image/png": "[encoded data removed]",
      "text/plain": [
       "<Figure size 1080x864 with 1 Axes>"
      ]
     },
     "metadata": {},
     "output_type": "display_data"
    }
   ],
   "source": [
    "# plot chart to show daily new cases rates\n",
    "\n",
    "order = pct_death_vac.groupby('continent')['pct_death'].mean().sort_values(ascending=False).index\n",
    "sns.barplot(data=pct_death_vac, x='pct_death', y='continent', ci=None, order=order, palette='rocket');\n",
    "plt.title('Proportion Of Deaths To Population', fontsize=17);\n",
    "plt.xlabel('Proportion Of Deaths', fontsize=14);\n",
    "plt.ylabel('Continent', fontsize=14);"
   ]
  },
  {
   "cell_type": "code",
   "execution_count": 39,
   "metadata": {
    "scrolled": true
   },
   "outputs": [
    {
     "data": {
      "text/html": [
       "<div>\n",
       "<style scoped>\n",
       "    .dataframe tbody tr th:only-of-type {\n",
       "        vertical-align: middle;\n",
       "    }\n",
       "\n",
       "    .dataframe tbody tr th {\n",
       "        vertical-align: top;\n",
       "    }\n",
       "\n",
       "    .dataframe thead th {\n",
       "        text-align: right;\n",
       "    }\n",
       "</style>\n",
       "<table border=\"1\" class=\"dataframe\">\n",
       "  <thead>\n",
       "    <tr style=\"text-align: right;\">\n",
       "      <th></th>\n",
       "      <th>country</th>\n",
       "      <th>continent</th>\n",
       "      <th>pct_tests</th>\n",
       "      <th>pct_vac</th>\n",
       "      <th>pct_confirmed</th>\n",
       "      <th>pct_rec</th>\n",
       "      <th>pct_death</th>\n",
       "      <th>total_deaths</th>\n",
       "      <th>population</th>\n",
       "    </tr>\n",
       "  </thead>\n",
       "  <tbody>\n",
       "    <tr>\n",
       "      <th>0</th>\n",
       "      <td>Afghanistan</td>\n",
       "      <td>Asia</td>\n",
       "      <td>0.018010</td>\n",
       "      <td>0.0609</td>\n",
       "      <td>0.003745</td>\n",
       "      <td>0.002541</td>\n",
       "      <td>0.000172</td>\n",
       "      <td>6864.0</td>\n",
       "      <td>39881090</td>\n",
       "    </tr>\n",
       "    <tr>\n",
       "      <th>1</th>\n",
       "      <td>Albania</td>\n",
       "      <td>Europe</td>\n",
       "      <td>0.318949</td>\n",
       "      <td>7.1263</td>\n",
       "      <td>0.046379</td>\n",
       "      <td>0.045337</td>\n",
       "      <td>0.000855</td>\n",
       "      <td>2457.0</td>\n",
       "      <td>2874366</td>\n",
       "    </tr>\n",
       "    <tr>\n",
       "      <th>2</th>\n",
       "      <td>Algeria</td>\n",
       "      <td>Africa</td>\n",
       "      <td>0.005163</td>\n",
       "      <td>0.0165</td>\n",
       "      <td>0.003952</td>\n",
       "      <td>0.002648</td>\n",
       "      <td>0.000098</td>\n",
       "      <td>4404.0</td>\n",
       "      <td>44712451</td>\n",
       "    </tr>\n",
       "    <tr>\n",
       "      <th>3</th>\n",
       "      <td>Andorra</td>\n",
       "      <td>Europe</td>\n",
       "      <td>2.501227</td>\n",
       "      <td>2.3226</td>\n",
       "      <td>0.191176</td>\n",
       "      <td>0.185788</td>\n",
       "      <td>0.001654</td>\n",
       "      <td>128.0</td>\n",
       "      <td>77400</td>\n",
       "    </tr>\n",
       "    <tr>\n",
       "      <th>4</th>\n",
       "      <td>Angola</td>\n",
       "      <td>Africa</td>\n",
       "      <td>0.024167</td>\n",
       "      <td>0.1632</td>\n",
       "      <td>0.001270</td>\n",
       "      <td>0.001165</td>\n",
       "      <td>0.000030</td>\n",
       "      <td>1026.0</td>\n",
       "      <td>33975047</td>\n",
       "    </tr>\n",
       "  </tbody>\n",
       "</table>\n",
       "</div>"
      ],
      "text/plain": [
       "       country continent  pct_tests  pct_vac  pct_confirmed   pct_rec  \\\n",
       "0  Afghanistan      Asia   0.018010   0.0609       0.003745  0.002541   \n",
       "1      Albania    Europe   0.318949   7.1263       0.046379  0.045337   \n",
       "2      Algeria    Africa   0.005163   0.0165       0.003952  0.002648   \n",
       "3      Andorra    Europe   2.501227   2.3226       0.191176  0.185788   \n",
       "4       Angola    Africa   0.024167   0.1632       0.001270  0.001165   \n",
       "\n",
       "   pct_death  total_deaths  population  \n",
       "0   0.000172        6864.0    39881090  \n",
       "1   0.000855        2457.0     2874366  \n",
       "2   0.000098        4404.0    44712451  \n",
       "3   0.001654         128.0       77400  \n",
       "4   0.000030        1026.0    33975047  "
      ]
     },
     "execution_count": 39,
     "metadata": {},
     "output_type": "execute_result"
    }
   ],
   "source": [
    "# review\n",
    "\n",
    "pct_death_vac.head(5)"
   ]
  },
  {
   "cell_type": "code",
   "execution_count": 40,
   "metadata": {},
   "outputs": [
    {
     "data": {
      "text/plain": [
       "(180, 9)"
      ]
     },
     "execution_count": 40,
     "metadata": {},
     "output_type": "execute_result"
    }
   ],
   "source": [
    "# review\n",
    "\n",
    "pct_death_vac.shape"
   ]
  },
  {
   "cell_type": "markdown",
   "metadata": {},
   "source": [
    "## Main criteria is population must greater than 5mil"
   ]
  },
  {
   "cell_type": "code",
   "execution_count": 43,
   "metadata": {},
   "outputs": [],
   "source": [
    "# filter the rows where population > 5mil\n",
    "\n",
    "pct_death_vac = pct_death_vac[pct_death_vac.population > 5000000]"
   ]
  },
  {
   "cell_type": "code",
   "execution_count": 44,
   "metadata": {},
   "outputs": [
    {
     "data": {
      "text/html": [
       "<div>\n",
       "<style scoped>\n",
       "    .dataframe tbody tr th:only-of-type {\n",
       "        vertical-align: middle;\n",
       "    }\n",
       "\n",
       "    .dataframe tbody tr th {\n",
       "        vertical-align: top;\n",
       "    }\n",
       "\n",
       "    .dataframe thead th {\n",
       "        text-align: right;\n",
       "    }\n",
       "</style>\n",
       "<table border=\"1\" class=\"dataframe\">\n",
       "  <thead>\n",
       "    <tr style=\"text-align: right;\">\n",
       "      <th></th>\n",
       "      <th>country</th>\n",
       "      <th>continent</th>\n",
       "      <th>pct_confirmed</th>\n",
       "      <th>pct_death</th>\n",
       "    </tr>\n",
       "  </thead>\n",
       "  <tbody>\n",
       "    <tr>\n",
       "      <th>0</th>\n",
       "      <td>Afghanistan</td>\n",
       "      <td>Asia</td>\n",
       "      <td>0.003745</td>\n",
       "      <td>0.000172</td>\n",
       "    </tr>\n",
       "    <tr>\n",
       "      <th>2</th>\n",
       "      <td>Algeria</td>\n",
       "      <td>Africa</td>\n",
       "      <td>0.003952</td>\n",
       "      <td>0.000098</td>\n",
       "    </tr>\n",
       "    <tr>\n",
       "      <th>4</th>\n",
       "      <td>Angola</td>\n",
       "      <td>Africa</td>\n",
       "      <td>0.001270</td>\n",
       "      <td>0.000030</td>\n",
       "    </tr>\n",
       "    <tr>\n",
       "      <th>6</th>\n",
       "      <td>Argentina</td>\n",
       "      <td>South America</td>\n",
       "      <td>0.109000</td>\n",
       "      <td>0.002338</td>\n",
       "    </tr>\n",
       "    <tr>\n",
       "      <th>9</th>\n",
       "      <td>Australia</td>\n",
       "      <td>Australia/Oceania</td>\n",
       "      <td>0.001371</td>\n",
       "      <td>0.000036</td>\n",
       "    </tr>\n",
       "  </tbody>\n",
       "</table>\n",
       "</div>"
      ],
      "text/plain": [
       "       country          continent  pct_confirmed  pct_death\n",
       "0  Afghanistan               Asia       0.003745   0.000172\n",
       "2      Algeria             Africa       0.003952   0.000098\n",
       "4       Angola             Africa       0.001270   0.000030\n",
       "6    Argentina      South America       0.109000   0.002338\n",
       "9    Australia  Australia/Oceania       0.001371   0.000036"
      ]
     },
     "execution_count": 44,
     "metadata": {},
     "output_type": "execute_result"
    }
   ],
   "source": [
    "# create a new dataframe fpr confirmed cases and deaths\n",
    "\n",
    "pct_death_confirmed = pct_death_vac[['country','continent','pct_confirmed','pct_death']]\n",
    "pct_death_confirmed.head()"
   ]
  },
  {
   "cell_type": "markdown",
   "metadata": {},
   "source": [
    "## Trim down to 90 countries"
   ]
  },
  {
   "cell_type": "code",
   "execution_count": 45,
   "metadata": {},
   "outputs": [],
   "source": [
    "# trim down the number of countries with the worst confirmed cases and death to 90 countries\n",
    "\n",
    "while pct_death_confirmed.shape[0] > 90:\n",
    "    \n",
    "    pct_confirmed_max = pct_death_confirmed['pct_confirmed'].max()\n",
    "    pct_confirmed_index = pct_death_confirmed[pct_death_confirmed['pct_confirmed']==pct_confirmed_max].index \n",
    "    pct_death_confirmed.drop(pct_confirmed_index, inplace=True)\n",
    "    \n",
    "    pct_death_max = pct_death_confirmed['pct_death'].max()\n",
    "    pct_death_index = pct_death_confirmed[pct_death_confirmed['pct_death']==pct_death_max].index \n",
    "    pct_death_confirmed.drop(pct_death_index, inplace=True)"
   ]
  },
  {
   "cell_type": "code",
   "execution_count": 46,
   "metadata": {},
   "outputs": [
    {
     "data": {
      "text/plain": [
       "(90, 4)"
      ]
     },
     "execution_count": 46,
     "metadata": {},
     "output_type": "execute_result"
    }
   ],
   "source": [
    "# review\n",
    "\n",
    "pct_death_confirmed.shape"
   ]
  },
  {
   "cell_type": "code",
   "execution_count": 47,
   "metadata": {},
   "outputs": [],
   "source": [
    "# import KMeans for unsupervised learning\n",
    "\n",
    "from sklearn.cluster import KMeans"
   ]
  },
  {
   "cell_type": "code",
   "execution_count": 48,
   "metadata": {},
   "outputs": [
    {
     "data": {
      "image/png": "[encoded data removed]",
      "text/plain": [
       "<Figure size 864x576 with 1 Axes>"
      ]
     },
     "metadata": {},
     "output_type": "display_data"
    }
   ],
   "source": [
    "# use elbow technique to compute optimum number of clusters or k\n",
    "\n",
    "k = range(1,10)\n",
    "sse = []\n",
    "for i in k:  \n",
    "    km = KMeans(n_clusters=i).fit(pct_death_confirmed[['pct_confirmed','pct_death']])\n",
    "    sse.append(km.inertia_)\n",
    "fig=plt.gcf()\n",
    "fig.set_size_inches(12,8)\n",
    "plt.plot(k,sse);\n",
    "plt.xlabel('Number of K clusters');\n",
    "plt.ylabel('Sum of Squared Error');\n",
    "plt.title('Elbow Technique to determine K value');"
   ]
  },
  {
   "cell_type": "code",
   "execution_count": 49,
   "metadata": {},
   "outputs": [],
   "source": [
    "# split into 3 clusters\n",
    "\n",
    "km = KMeans(3).fit(pct_death_confirmed[['pct_confirmed','pct_death']])\n",
    "km_clusters = km.predict(pct_death_confirmed[['pct_confirmed','pct_death']])\n",
    "pct_death_confirmed['clusters'] = km_clusters"
   ]
  },
  {
   "cell_type": "markdown",
   "metadata": {},
   "source": [
    "## 1st shortlist"
   ]
  },
  {
   "cell_type": "code",
   "execution_count": 50,
   "metadata": {},
   "outputs": [
    {
     "data": {
      "image/png": "[encoded data removed]",
      "text/plain": [
       "<Figure size 1080x864 with 1 Axes>"
      ]
     },
     "metadata": {},
     "output_type": "display_data"
    }
   ],
   "source": [
    "# visualize\n",
    "\n",
    "sns.scatterplot(data=pct_death_confirmed, x='pct_confirmed', y='pct_death', hue='clusters', palette='bright');\n",
    "plt.title('Proportion Of Deaths and Infections To Population', fontsize=17);\n",
    "plt.xlabel('Proportion Of Infected To Population', fontsize=14);\n",
    "plt.ylabel('Proportion Of Deaths To Population', fontsize=14);"
   ]
  },
  {
   "cell_type": "code",
   "execution_count": 51,
   "metadata": {},
   "outputs": [],
   "source": [
    "# retrieve the indexes of each cluster\n",
    "\n",
    "cluster_2_index = pct_death_confirmed.loc[pct_death_confirmed['clusters']==2,'country'].index.tolist()"
   ]
  },
  {
   "cell_type": "code",
   "execution_count": 52,
   "metadata": {},
   "outputs": [],
   "source": [
    "cluster_1_index = pct_death_confirmed.loc[pct_death_confirmed['clusters']==1,'country'].index.tolist()"
   ]
  },
  {
   "cell_type": "code",
   "execution_count": 53,
   "metadata": {},
   "outputs": [],
   "source": [
    "cluster_0_index = pct_death_confirmed.loc[pct_death_confirmed['clusters']==0,'country'].index.tolist()"
   ]
  },
  {
   "cell_type": "code",
   "execution_count": 54,
   "metadata": {},
   "outputs": [],
   "source": [
    "# add the indexes of cluster 0 and 2 the which are the minimum 2 clusters\n",
    "\n",
    "shortlist_1_index = cluster_0_index + cluster_2_index"
   ]
  },
  {
   "cell_type": "code",
   "execution_count": 55,
   "metadata": {},
   "outputs": [],
   "source": [
    "# retrieve all information regarding the 2 clusters in the original dataframe\n",
    "\n",
    "shortlist_1_df = pct_death_vac[pct_death_vac.index.isin(shortlist_1_index)]\n"
   ]
  },
  {
   "cell_type": "code",
   "execution_count": 56,
   "metadata": {},
   "outputs": [
    {
     "data": {
      "text/html": [
       "<div>\n",
       "<style scoped>\n",
       "    .dataframe tbody tr th:only-of-type {\n",
       "        vertical-align: middle;\n",
       "    }\n",
       "\n",
       "    .dataframe tbody tr th {\n",
       "        vertical-align: top;\n",
       "    }\n",
       "\n",
       "    .dataframe thead th {\n",
       "        text-align: right;\n",
       "    }\n",
       "</style>\n",
       "<table border=\"1\" class=\"dataframe\">\n",
       "  <thead>\n",
       "    <tr style=\"text-align: right;\">\n",
       "      <th></th>\n",
       "      <th>country</th>\n",
       "      <th>continent</th>\n",
       "      <th>pct_tests</th>\n",
       "      <th>pct_vac</th>\n",
       "      <th>pct_confirmed</th>\n",
       "      <th>pct_rec</th>\n",
       "      <th>pct_death</th>\n",
       "      <th>total_deaths</th>\n",
       "      <th>population</th>\n",
       "    </tr>\n",
       "  </thead>\n",
       "  <tbody>\n",
       "    <tr>\n",
       "      <th>0</th>\n",
       "      <td>Afghanistan</td>\n",
       "      <td>Asia</td>\n",
       "      <td>0.018010</td>\n",
       "      <td>0.0609</td>\n",
       "      <td>0.003745</td>\n",
       "      <td>0.002541</td>\n",
       "      <td>0.000172</td>\n",
       "      <td>6864.0</td>\n",
       "      <td>39881090</td>\n",
       "    </tr>\n",
       "    <tr>\n",
       "      <th>2</th>\n",
       "      <td>Algeria</td>\n",
       "      <td>Africa</td>\n",
       "      <td>0.005163</td>\n",
       "      <td>0.0165</td>\n",
       "      <td>0.003952</td>\n",
       "      <td>0.002648</td>\n",
       "      <td>0.000098</td>\n",
       "      <td>4404.0</td>\n",
       "      <td>44712451</td>\n",
       "    </tr>\n",
       "    <tr>\n",
       "      <th>4</th>\n",
       "      <td>Angola</td>\n",
       "      <td>Africa</td>\n",
       "      <td>0.024167</td>\n",
       "      <td>0.1632</td>\n",
       "      <td>0.001270</td>\n",
       "      <td>0.001165</td>\n",
       "      <td>0.000030</td>\n",
       "      <td>1026.0</td>\n",
       "      <td>33975047</td>\n",
       "    </tr>\n",
       "    <tr>\n",
       "      <th>9</th>\n",
       "      <td>Australia</td>\n",
       "      <td>Australia/Oceania</td>\n",
       "      <td>1.004560</td>\n",
       "      <td>3.7864</td>\n",
       "      <td>0.001371</td>\n",
       "      <td>0.001180</td>\n",
       "      <td>0.000036</td>\n",
       "      <td>932.0</td>\n",
       "      <td>25822206</td>\n",
       "    </tr>\n",
       "    <tr>\n",
       "      <th>11</th>\n",
       "      <td>Azerbaijan</td>\n",
       "      <td>Asia</td>\n",
       "      <td>0.397576</td>\n",
       "      <td>11.0149</td>\n",
       "      <td>0.033879</td>\n",
       "      <td>0.032591</td>\n",
       "      <td>0.000492</td>\n",
       "      <td>5039.0</td>\n",
       "      <td>10238791</td>\n",
       "    </tr>\n",
       "  </tbody>\n",
       "</table>\n",
       "</div>"
      ],
      "text/plain": [
       "        country          continent  pct_tests  pct_vac  pct_confirmed  \\\n",
       "0   Afghanistan               Asia   0.018010   0.0609       0.003745   \n",
       "2       Algeria             Africa   0.005163   0.0165       0.003952   \n",
       "4        Angola             Africa   0.024167   0.1632       0.001270   \n",
       "9     Australia  Australia/Oceania   1.004560   3.7864       0.001371   \n",
       "11   Azerbaijan               Asia   0.397576  11.0149       0.033879   \n",
       "\n",
       "     pct_rec  pct_death  total_deaths  population  \n",
       "0   0.002541   0.000172        6864.0    39881090  \n",
       "2   0.002648   0.000098        4404.0    44712451  \n",
       "4   0.001165   0.000030        1026.0    33975047  \n",
       "9   0.001180   0.000036         932.0    25822206  \n",
       "11  0.032591   0.000492        5039.0    10238791  "
      ]
     },
     "execution_count": 56,
     "metadata": {},
     "output_type": "execute_result"
    }
   ],
   "source": [
    "# review\n",
    "\n",
    "shortlist_1_df.head()"
   ]
  },
  {
   "cell_type": "code",
   "execution_count": 57,
   "metadata": {},
   "outputs": [
    {
     "data": {
      "text/plain": [
       "(82, 2)"
      ]
     },
     "execution_count": 57,
     "metadata": {},
     "output_type": "execute_result"
    }
   ],
   "source": [
    "# create new dataframe for vaccination and test\n",
    "\n",
    "shortlist_1_pct_tests = shortlist_1_df[['pct_vac','pct_tests']]\n",
    "shortlist_1_pct_tests.shape"
   ]
  },
  {
   "cell_type": "code",
   "execution_count": 58,
   "metadata": {},
   "outputs": [
    {
     "data": {
      "text/html": [
       "<div>\n",
       "<style scoped>\n",
       "    .dataframe tbody tr th:only-of-type {\n",
       "        vertical-align: middle;\n",
       "    }\n",
       "\n",
       "    .dataframe tbody tr th {\n",
       "        vertical-align: top;\n",
       "    }\n",
       "\n",
       "    .dataframe thead th {\n",
       "        text-align: right;\n",
       "    }\n",
       "</style>\n",
       "<table border=\"1\" class=\"dataframe\">\n",
       "  <thead>\n",
       "    <tr style=\"text-align: right;\">\n",
       "      <th></th>\n",
       "      <th>pct_vac</th>\n",
       "      <th>pct_tests</th>\n",
       "    </tr>\n",
       "  </thead>\n",
       "  <tbody>\n",
       "    <tr>\n",
       "      <th>0</th>\n",
       "      <td>0.0609</td>\n",
       "      <td>0.018010</td>\n",
       "    </tr>\n",
       "    <tr>\n",
       "      <th>2</th>\n",
       "      <td>0.0165</td>\n",
       "      <td>0.005163</td>\n",
       "    </tr>\n",
       "    <tr>\n",
       "      <th>4</th>\n",
       "      <td>0.1632</td>\n",
       "      <td>0.024167</td>\n",
       "    </tr>\n",
       "    <tr>\n",
       "      <th>9</th>\n",
       "      <td>3.7864</td>\n",
       "      <td>1.004560</td>\n",
       "    </tr>\n",
       "    <tr>\n",
       "      <th>11</th>\n",
       "      <td>11.0149</td>\n",
       "      <td>0.397576</td>\n",
       "    </tr>\n",
       "  </tbody>\n",
       "</table>\n",
       "</div>"
      ],
      "text/plain": [
       "    pct_vac  pct_tests\n",
       "0    0.0609   0.018010\n",
       "2    0.0165   0.005163\n",
       "4    0.1632   0.024167\n",
       "9    3.7864   1.004560\n",
       "11  11.0149   0.397576"
      ]
     },
     "execution_count": 58,
     "metadata": {},
     "output_type": "execute_result"
    }
   ],
   "source": [
    "shortlist_1_pct_tests.head()"
   ]
  },
  {
   "cell_type": "code",
   "execution_count": 59,
   "metadata": {},
   "outputs": [],
   "source": [
    "#sns.scatterplot(data=shortlist_1, x='pct_vac', y='pct_rec');"
   ]
  },
  {
   "cell_type": "code",
   "execution_count": 60,
   "metadata": {},
   "outputs": [
    {
     "data": {
      "image/png": "[encoded data removed]",
      "text/plain": [
       "<Figure size 864x576 with 1 Axes>"
      ]
     },
     "metadata": {},
     "output_type": "display_data"
    }
   ],
   "source": [
    "k = range(1,10)\n",
    "sse = []\n",
    "for i in k: \n",
    "    kms = KMeans(n_clusters=i).fit(shortlist_1_pct_tests)\n",
    "    sse.append(kms.inertia_)\n",
    "fig=plt.gcf()\n",
    "fig.set_size_inches(12,8)\n",
    "plt.plot(k,sse);\n",
    "plt.xlabel('Number of K clusters');\n",
    "plt.ylabel('Sum of Squared Error');\n",
    "plt.title('Elbow Technique to determine K value');"
   ]
  },
  {
   "cell_type": "code",
   "execution_count": 61,
   "metadata": {},
   "outputs": [],
   "source": [
    "# split into 3 clusters\n",
    "\n",
    "kms = KMeans(3).fit(shortlist_1_pct_tests)\n",
    "shortlist_1_pct_tests_cluster = kms.predict(shortlist_1_pct_tests)\n"
   ]
  },
  {
   "cell_type": "code",
   "execution_count": 62,
   "metadata": {},
   "outputs": [],
   "source": [
    "# pass the cluster labels to dataframe\n",
    "\n",
    "shortlist_1_df['clusters'] = shortlist_1_pct_tests_cluster"
   ]
  },
  {
   "cell_type": "code",
   "execution_count": 63,
   "metadata": {},
   "outputs": [],
   "source": [
    "shortlist_2 = shortlist_1_df.copy()"
   ]
  },
  {
   "cell_type": "code",
   "execution_count": 64,
   "metadata": {},
   "outputs": [
    {
     "data": {
      "text/plain": [
       "(82, 10)"
      ]
     },
     "execution_count": 64,
     "metadata": {},
     "output_type": "execute_result"
    }
   ],
   "source": [
    "shortlist_2.shape"
   ]
  },
  {
   "cell_type": "markdown",
   "metadata": {},
   "source": [
    "## 2nd shortlist"
   ]
  },
  {
   "cell_type": "code",
   "execution_count": 65,
   "metadata": {},
   "outputs": [
    {
     "data": {
      "image/png": "[encoded data removed]",
      "text/plain": [
       "<Figure size 1080x864 with 1 Axes>"
      ]
     },
     "metadata": {},
     "output_type": "display_data"
    }
   ],
   "source": [
    "sns.scatterplot(data=shortlist_2, x='pct_vac', y='pct_tests', hue='clusters', palette='bright');\n",
    "plt.title('Proportion Of Vaccinated and Tested To Population', fontsize=17);\n",
    "plt.xlabel('Proportion Of Vaccinated To Population', fontsize=14);\n",
    "plt.ylabel('Proportion Of Tested To Population', fontsize=14);"
   ]
  },
  {
   "cell_type": "code",
   "execution_count": 66,
   "metadata": {},
   "outputs": [],
   "source": [
    "shortlist_2_1_index = shortlist_2[shortlist_2['clusters']==1].index.tolist()\n",
    "shortlist_2_0_index = shortlist_2[shortlist_2['clusters']==0].index.tolist()"
   ]
  },
  {
   "cell_type": "code",
   "execution_count": 67,
   "metadata": {},
   "outputs": [],
   "source": [
    "shortlist_2_index = shortlist_2_1_index + shortlist_2_0_index"
   ]
  },
  {
   "cell_type": "code",
   "execution_count": 68,
   "metadata": {},
   "outputs": [],
   "source": [
    "shortlist_2_1 = shortlist_2[shortlist_2['clusters']==1]"
   ]
  },
  {
   "cell_type": "code",
   "execution_count": 69,
   "metadata": {},
   "outputs": [],
   "source": [
    "shortlist_2_0 = shortlist_2[shortlist_2['clusters']==0]"
   ]
  },
  {
   "cell_type": "code",
   "execution_count": 70,
   "metadata": {},
   "outputs": [
    {
     "data": {
      "text/plain": [
       "array(['Azerbaijan', 'Cambodia', 'Canada', 'Cuba', 'Dominican Republic',\n",
       "       'Ecuador', 'El Salvador', 'Finland', 'Germany', 'Greece', 'Japan',\n",
       "       'Kazakhstan', 'Malaysia', 'Morocco', 'New Zealand', 'Norway',\n",
       "       'Russia', 'Singapore', 'South Korea', 'Switzerland', 'Turkey'],\n",
       "      dtype=object)"
      ]
     },
     "execution_count": 70,
     "metadata": {},
     "output_type": "execute_result"
    }
   ],
   "source": [
    "pct_death_vac[pct_death_vac.index.isin(shortlist_2_index)].country.unique()"
   ]
  },
  {
   "cell_type": "code",
   "execution_count": 71,
   "metadata": {},
   "outputs": [],
   "source": [
    "final_shortlist = pd.concat([shortlist_2_1, shortlist_2_0], axis=0)\n"
   ]
  },
  {
   "cell_type": "code",
   "execution_count": 72,
   "metadata": {},
   "outputs": [
    {
     "data": {
      "text/plain": [
       "(21, 10)"
      ]
     },
     "execution_count": 72,
     "metadata": {},
     "output_type": "execute_result"
    }
   ],
   "source": [
    "final_shortlist.shape"
   ]
  },
  {
   "cell_type": "code",
   "execution_count": 73,
   "metadata": {},
   "outputs": [],
   "source": [
    "gdp = pd.read_csv('gdp_per_capita.csv')"
   ]
  },
  {
   "cell_type": "code",
   "execution_count": 74,
   "metadata": {},
   "outputs": [
    {
     "data": {
      "text/html": [
       "<div>\n",
       "<style scoped>\n",
       "    .dataframe tbody tr th:only-of-type {\n",
       "        vertical-align: middle;\n",
       "    }\n",
       "\n",
       "    .dataframe tbody tr th {\n",
       "        vertical-align: top;\n",
       "    }\n",
       "\n",
       "    .dataframe thead th {\n",
       "        text-align: right;\n",
       "    }\n",
       "</style>\n",
       "<table border=\"1\" class=\"dataframe\">\n",
       "  <thead>\n",
       "    <tr style=\"text-align: right;\">\n",
       "      <th></th>\n",
       "      <th>Unnamed: 0</th>\n",
       "      <th>GDP per capita</th>\n",
       "    </tr>\n",
       "  </thead>\n",
       "  <tbody>\n",
       "    <tr>\n",
       "      <th>0</th>\n",
       "      <td>Afghanistan</td>\n",
       "      <td>1976</td>\n",
       "    </tr>\n",
       "    <tr>\n",
       "      <th>1</th>\n",
       "      <td>Albania</td>\n",
       "      <td>12943</td>\n",
       "    </tr>\n",
       "    <tr>\n",
       "      <th>2</th>\n",
       "      <td>Algeria</td>\n",
       "      <td>15293</td>\n",
       "    </tr>\n",
       "    <tr>\n",
       "      <th>3</th>\n",
       "      <td>American Samoa</td>\n",
       "      <td>11534</td>\n",
       "    </tr>\n",
       "    <tr>\n",
       "      <th>4</th>\n",
       "      <td>Andorra</td>\n",
       "      <td>40897</td>\n",
       "    </tr>\n",
       "  </tbody>\n",
       "</table>\n",
       "</div>"
      ],
      "text/plain": [
       "       Unnamed: 0  GDP per capita\n",
       "0     Afghanistan            1976\n",
       "1         Albania           12943\n",
       "2         Algeria           15293\n",
       "3  American Samoa           11534\n",
       "4         Andorra           40897"
      ]
     },
     "execution_count": 74,
     "metadata": {},
     "output_type": "execute_result"
    }
   ],
   "source": [
    "gdp.head()"
   ]
  },
  {
   "cell_type": "code",
   "execution_count": 75,
   "metadata": {},
   "outputs": [],
   "source": [
    "gdp.rename(columns={'Unnamed: 0':'country'}, inplace=True)"
   ]
  },
  {
   "cell_type": "code",
   "execution_count": 76,
   "metadata": {},
   "outputs": [],
   "source": [
    "gdp.sort_values('country', ascending=True, inplace=True)"
   ]
  },
  {
   "cell_type": "code",
   "execution_count": 77,
   "metadata": {},
   "outputs": [
    {
     "data": {
      "text/html": [
       "<div>\n",
       "<style scoped>\n",
       "    .dataframe tbody tr th:only-of-type {\n",
       "        vertical-align: middle;\n",
       "    }\n",
       "\n",
       "    .dataframe tbody tr th {\n",
       "        vertical-align: top;\n",
       "    }\n",
       "\n",
       "    .dataframe thead th {\n",
       "        text-align: right;\n",
       "    }\n",
       "</style>\n",
       "<table border=\"1\" class=\"dataframe\">\n",
       "  <thead>\n",
       "    <tr style=\"text-align: right;\">\n",
       "      <th></th>\n",
       "      <th>country</th>\n",
       "      <th>GDP per capita</th>\n",
       "    </tr>\n",
       "  </thead>\n",
       "  <tbody>\n",
       "    <tr>\n",
       "      <th>0</th>\n",
       "      <td>Afghanistan</td>\n",
       "      <td>1976</td>\n",
       "    </tr>\n",
       "    <tr>\n",
       "      <th>1</th>\n",
       "      <td>Albania</td>\n",
       "      <td>12943</td>\n",
       "    </tr>\n",
       "    <tr>\n",
       "      <th>2</th>\n",
       "      <td>Algeria</td>\n",
       "      <td>15293</td>\n",
       "    </tr>\n",
       "    <tr>\n",
       "      <th>3</th>\n",
       "      <td>American Samoa</td>\n",
       "      <td>11534</td>\n",
       "    </tr>\n",
       "    <tr>\n",
       "      <th>4</th>\n",
       "      <td>Andorra</td>\n",
       "      <td>40897</td>\n",
       "    </tr>\n",
       "  </tbody>\n",
       "</table>\n",
       "</div>"
      ],
      "text/plain": [
       "          country  GDP per capita\n",
       "0     Afghanistan            1976\n",
       "1         Albania           12943\n",
       "2         Algeria           15293\n",
       "3  American Samoa           11534\n",
       "4         Andorra           40897"
      ]
     },
     "execution_count": 77,
     "metadata": {},
     "output_type": "execute_result"
    }
   ],
   "source": [
    "gdp.head()"
   ]
  },
  {
   "cell_type": "code",
   "execution_count": 78,
   "metadata": {},
   "outputs": [],
   "source": [
    "gdp.columns = gdp.columns.map(lambda x: x.replace(' ','_').lower())"
   ]
  },
  {
   "cell_type": "code",
   "execution_count": 79,
   "metadata": {},
   "outputs": [],
   "source": [
    "acc= []\n",
    "for i in final_shortlist.country:\n",
    "    acc.append(gdp[gdp['country']==i])\n",
    "    \n",
    "gdp_shortlist = pd.concat(acc)"
   ]
  },
  {
   "cell_type": "code",
   "execution_count": 80,
   "metadata": {},
   "outputs": [
    {
     "data": {
      "text/plain": [
       "35                 Canada\n",
       "52     Dominican Republic\n",
       "68                Germany\n",
       "70                 Greece\n",
       "121               Morocco\n",
       "133                Norway\n",
       "171           Switzerland\n",
       "180                Turkey\n",
       "13             Azerbaijan\n",
       "33               Cambodia\n",
       "47                   Cuba\n",
       "54                Ecuador\n",
       "56            El Salvador\n",
       "63                Finland\n",
       "91                  Japan\n",
       "93             Kazakhstan\n",
       "109              Malaysia\n",
       "127           New Zealand\n",
       "146                Russia\n",
       "158             Singapore\n",
       "163           South Korea\n",
       "Name: country, dtype: object"
      ]
     },
     "execution_count": 80,
     "metadata": {},
     "output_type": "execute_result"
    }
   ],
   "source": [
    "gdp_shortlist.country"
   ]
  },
  {
   "cell_type": "code",
   "execution_count": 81,
   "metadata": {},
   "outputs": [
    {
     "data": {
      "text/plain": [
       "30                 Canada\n",
       "46     Dominican Republic\n",
       "61                Germany\n",
       "64                 Greece\n",
       "112               Morocco\n",
       "123                Norway\n",
       "160           Switzerland\n",
       "167                Turkey\n",
       "11             Azerbaijan\n",
       "28               Cambodia\n",
       "41                   Cuba\n",
       "47                Ecuador\n",
       "49            El Salvador\n",
       "55                Finland\n",
       "83                  Japan\n",
       "85             Kazakhstan\n",
       "100              Malaysia\n",
       "119           New Zealand\n",
       "135                Russia\n",
       "147             Singapore\n",
       "153           South Korea\n",
       "Name: country, dtype: object"
      ]
     },
     "execution_count": 81,
     "metadata": {},
     "output_type": "execute_result"
    }
   ],
   "source": [
    "final_shortlist.country"
   ]
  },
  {
   "cell_type": "code",
   "execution_count": 82,
   "metadata": {},
   "outputs": [],
   "source": [
    "final_shortlist['gdp_per_capita'] = gdp_shortlist['gdp_per_capita'].tolist()"
   ]
  },
  {
   "cell_type": "code",
   "execution_count": 83,
   "metadata": {},
   "outputs": [
    {
     "data": {
      "text/plain": [
       "(21, 11)"
      ]
     },
     "execution_count": 83,
     "metadata": {},
     "output_type": "execute_result"
    }
   ],
   "source": [
    "final_shortlist.shape"
   ]
  },
  {
   "cell_type": "code",
   "execution_count": 84,
   "metadata": {},
   "outputs": [],
   "source": [
    "# use recovery rate and GDP per capita to visualize the different countries\n",
    "\n",
    "from sklearn.preprocessing import StandardScaler\n",
    "\n",
    "X = final_shortlist[['pct_rec', 'gdp_per_capita']]\n",
    "sc = StandardScaler()\n",
    "X_sc = sc.fit_transform(X)"
   ]
  },
  {
   "cell_type": "code",
   "execution_count": 85,
   "metadata": {},
   "outputs": [],
   "source": [
    "# use k = 2 to split into 2 groups\n",
    "\n",
    "kmeans = KMeans(2).fit(X_sc)\n",
    "final_shortlist['clusters_gdp'] = kmeans.predict(X_sc)"
   ]
  },
  {
   "cell_type": "markdown",
   "metadata": {},
   "source": [
    "## 3rd shortlist"
   ]
  },
  {
   "cell_type": "code",
   "execution_count": 86,
   "metadata": {},
   "outputs": [
    {
     "data": {
      "image/png": "[encoded data removed]",
      "text/plain": [
       "<Figure size 1080x864 with 1 Axes>"
      ]
     },
     "metadata": {},
     "output_type": "display_data"
    }
   ],
   "source": [
    "# visualize the 2 groups on chart\n",
    "\n",
    "sns.scatterplot(data=final_shortlist, x='pct_rec', y='gdp_per_capita', hue='clusters_gdp');\n",
    "plt.title('Proportion Of Recovery Rate to GDP per capita', fontsize=17);\n",
    "plt.xlabel('Proportion Of Recovery Rate To Population', fontsize=14);\n",
    "plt.ylabel('GDP Per Capita', fontsize=14);"
   ]
  },
  {
   "cell_type": "code",
   "execution_count": 87,
   "metadata": {},
   "outputs": [],
   "source": [
    "# shortlist the higher GDP for group 0\n",
    "\n",
    "gdp_shortlist_a = final_shortlist[final_shortlist['clusters_gdp']==1]\n",
    "gdp_shortlist_b = final_shortlist[final_shortlist['clusters_gdp']==0]"
   ]
  },
  {
   "cell_type": "markdown",
   "metadata": {},
   "source": [
    "## Final list of countries (preferred)"
   ]
  },
  {
   "cell_type": "code",
   "execution_count": 103,
   "metadata": {},
   "outputs": [
    {
     "data": {
      "text/plain": [
       "30          Canada\n",
       "61         Germany\n",
       "64          Greece\n",
       "123         Norway\n",
       "160    Switzerland\n",
       "167         Turkey\n",
       "147      Singapore\n",
       "Name: country, dtype: object"
      ]
     },
     "execution_count": 103,
     "metadata": {},
     "output_type": "execute_result"
    }
   ],
   "source": [
    "# review\n",
    "\n",
    "gdp_shortlist_b.country"
   ]
  },
  {
   "cell_type": "code",
   "execution_count": 95,
   "metadata": {},
   "outputs": [
    {
     "data": {
      "image/png": "[encoded data removed]",
      "text/plain": [
       "<Figure size 1080x864 with 1 Axes>"
      ]
     },
     "metadata": {},
     "output_type": "display_data"
    }
   ],
   "source": [
    "# review final list of countries\n",
    "\n",
    "order = gdp_shortlist_b.sort_values('gdp_per_capita', ascending=False).country\n",
    "sns.barplot(data=gdp_shortlist_b, x='gdp_per_capita', y='country', order=order, palette='tab10')\n",
    "plt.title('GDP per capita', fontsize=17);\n",
    "plt.xlabel('GDP per capita', fontsize=14);\n",
    "plt.ylabel('Country', fontsize=14);\n",
    "\n",
    "plt.show()"
   ]
  },
  {
   "cell_type": "code",
   "execution_count": 100,
   "metadata": {},
   "outputs": [
    {
     "data": {
      "image/png": "[encoded data removed]",
      "text/plain": [
       "<Figure size 1080x864 with 1 Axes>"
      ]
     },
     "metadata": {},
     "output_type": "display_data"
    }
   ],
   "source": [
    "# review final list of countries\n",
    "\n",
    "order = gdp_shortlist_b.sort_values('population', ascending=False).country\n",
    "sns.barplot(data=gdp_shortlist_b, x='population', y='country', order=order, palette ='Paired')\n",
    "plt.title('Population', fontsize=17);\n",
    "plt.xlabel('Population', fontsize=14);\n",
    "plt.ylabel('Country', fontsize=14);\n",
    "\n",
    "plt.show()"
   ]
  },
  {
   "cell_type": "markdown",
   "metadata": {},
   "source": [
    "## 2nd group for consideration"
   ]
  },
  {
   "cell_type": "code",
   "execution_count": 101,
   "metadata": {},
   "outputs": [
    {
     "data": {
      "image/png": "[encoded data removed]",
      "text/plain": [
       "<Figure size 1080x864 with 1 Axes>"
      ]
     },
     "metadata": {},
     "output_type": "display_data"
    }
   ],
   "source": [
    "# review final list of countries\n",
    "\n",
    "order = gdp_shortlist_a.sort_values('gdp_per_capita', ascending=False).country\n",
    "sns.barplot(data=gdp_shortlist_a, x='gdp_per_capita', y='country', order=order, palette='tab10')\n",
    "plt.title('GDP per capita', fontsize=17);\n",
    "plt.xlabel('GDP per capita', fontsize=14);\n",
    "plt.ylabel('Country', fontsize=14);\n",
    "\n",
    "plt.show()"
   ]
  },
  {
   "cell_type": "markdown",
   "metadata": {},
   "source": [
    "# THANK YOU!!!"
   ]
  },
  {
   "cell_type": "code",
   "execution_count": null,
   "metadata": {},
   "outputs": [],
   "source": []
  },
  {
   "cell_type": "code",
   "execution_count": null,
   "metadata": {},
   "outputs": [],
   "source": []
  },
  {
   "cell_type": "code",
   "execution_count": null,
   "metadata": {},
   "outputs": [],
   "source": []
  },
  {
   "cell_type": "code",
   "execution_count": null,
   "metadata": {},
   "outputs": [],
   "source": []
  },
  {
   "cell_type": "code",
   "execution_count": null,
   "metadata": {},
   "outputs": [],
   "source": []
  },
  {
   "cell_type": "code",
   "execution_count": null,
   "metadata": {},
   "outputs": [],
   "source": []
  },
  {
   "cell_type": "code",
   "execution_count": null,
   "metadata": {},
   "outputs": [],
   "source": []
  },
  {
   "cell_type": "code",
   "execution_count": null,
   "metadata": {},
   "outputs": [],
   "source": []
  },
  {
   "cell_type": "code",
   "execution_count": null,
   "metadata": {},
   "outputs": [],
   "source": []
  },
  {
   "cell_type": "code",
   "execution_count": null,
   "metadata": {},
   "outputs": [],
   "source": []
  },
  {
   "cell_type": "code",
   "execution_count": null,
   "metadata": {},
   "outputs": [],
   "source": []
  }
 ],
 "metadata": {
  "kernelspec": {
   "display_name": "Python 3",
   "language": "python",
   "name": "python3"
  },
  "language_info": {
   "codemirror_mode": {
    "name": "ipython",
    "version": 3
   },
   "file_extension": ".py",
   "mimetype": "text/x-python",
   "name": "python",
   "nbconvert_exporter": "python",
   "pygments_lexer": "ipython3",
   "version": "3.8.8"
  }
 },
 "nbformat": 4,
 "nbformat_minor": 4
}
