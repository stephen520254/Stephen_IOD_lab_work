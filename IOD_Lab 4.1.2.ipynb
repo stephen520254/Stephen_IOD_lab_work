{
 "cells": [
  {
   "cell_type": "markdown",
   "metadata": {
    "colab_type": "text",
    "id": "fpsJ8d42XWua"
   },
   "source": [
    "<div>\n",
    "<img src=https://www.institutedata.com/wp-content/uploads/2019/10/iod_h_tp_primary_c.svg width=\"300\">\n",
    "</div>"
   ]
  },
  {
   "cell_type": "markdown",
   "metadata": {
    "colab_type": "text",
    "id": "CSHa05-1XWub"
   },
   "source": [
    "# Lab 4.1.2 Linear Regression"
   ]
  },
  {
   "cell_type": "markdown",
   "metadata": {
    "colab_type": "text",
    "id": "lZ0RQEDgXWuc"
   },
   "source": [
    "## Prediction of House Price Using Linear Regression"
   ]
  },
  {
   "cell_type": "markdown",
   "metadata": {
    "colab_type": "text",
    "id": "96_GqGXCXWud"
   },
   "source": [
    "### Data\n",
    "\n",
    "The Sacramento real estate transactions file is a list of 985 real estate transactions in the Sacramento area reported over a five-day period, as reported by the Sacramento Bee."
   ]
  },
  {
   "cell_type": "code",
   "execution_count": 2,
   "metadata": {
    "colab": {},
    "colab_type": "code",
    "id": "l1leeqkAXWug"
   },
   "outputs": [],
   "source": [
    "import pandas as pd\n",
    "import numpy as np\n",
    "import pandas as pd\n",
    "import seaborn as sns\n",
    "import matplotlib.pyplot as plt\n",
    "%matplotlib inline\n",
    "plt.rcParams['figure.figsize']=(12,10)\n",
    "from sklearn.linear_model import LinearRegression\n",
    "from scipy import stats"
   ]
  },
  {
   "cell_type": "markdown",
   "metadata": {
    "colab_type": "text",
    "id": "S0zFU75NXWuj"
   },
   "source": [
    "### 1. Explore Data"
   ]
  },
  {
   "cell_type": "markdown",
   "metadata": {
    "colab_type": "text",
    "id": "kaShnXBCXWuk"
   },
   "source": [
    "Perform EDA on this dataset. Find Dependent and Independent Variables to predict house price."
   ]
  },
  {
   "cell_type": "code",
   "execution_count": 9,
   "metadata": {
    "colab": {},
    "colab_type": "code",
    "id": "oj3kd7vqXWul"
   },
   "outputs": [
    {
     "data": {
      "text/plain": [
       "Residential     917\n",
       "Condo            54\n",
       "Multi-Family     13\n",
       "Unkown            1\n",
       "Name: type, dtype: int64"
      ]
     },
     "execution_count": 9,
     "metadata": {},
     "output_type": "execute_result"
    }
   ],
   "source": [
    "# Read CSV\n",
    "house = pd.read_csv('Sacramento_transactions.csv')\n",
    "house.type.value_counts()"
   ]
  },
  {
   "cell_type": "code",
   "execution_count": 10,
   "metadata": {},
   "outputs": [],
   "source": [
    "# replace unknow with Residential\n",
    "\n",
    "house.replace({'Unknown':'Residential'}, inplace=True)"
   ]
  },
  {
   "cell_type": "code",
   "execution_count": 11,
   "metadata": {},
   "outputs": [
    {
     "data": {
      "text/html": [
       "<div>\n",
       "<style scoped>\n",
       "    .dataframe tbody tr th:only-of-type {\n",
       "        vertical-align: middle;\n",
       "    }\n",
       "\n",
       "    .dataframe tbody tr th {\n",
       "        vertical-align: top;\n",
       "    }\n",
       "\n",
       "    .dataframe thead th {\n",
       "        text-align: right;\n",
       "    }\n",
       "</style>\n",
       "<table border=\"1\" class=\"dataframe\">\n",
       "  <thead>\n",
       "    <tr style=\"text-align: right;\">\n",
       "      <th></th>\n",
       "      <th>street</th>\n",
       "      <th>city</th>\n",
       "      <th>zip</th>\n",
       "      <th>state</th>\n",
       "      <th>beds</th>\n",
       "      <th>baths</th>\n",
       "      <th>sq__ft</th>\n",
       "      <th>type</th>\n",
       "      <th>sale_date</th>\n",
       "      <th>price</th>\n",
       "      <th>latitude</th>\n",
       "      <th>longitude</th>\n",
       "    </tr>\n",
       "  </thead>\n",
       "  <tbody>\n",
       "    <tr>\n",
       "      <th>0</th>\n",
       "      <td>3526 HIGH ST</td>\n",
       "      <td>SACRAMENTO</td>\n",
       "      <td>95838</td>\n",
       "      <td>CA</td>\n",
       "      <td>2</td>\n",
       "      <td>1</td>\n",
       "      <td>836</td>\n",
       "      <td>Residential</td>\n",
       "      <td>Wed May 21 00:00:00 EDT 2008</td>\n",
       "      <td>59222</td>\n",
       "      <td>38.631913</td>\n",
       "      <td>-121.434879</td>\n",
       "    </tr>\n",
       "    <tr>\n",
       "      <th>1</th>\n",
       "      <td>51 OMAHA CT</td>\n",
       "      <td>SACRAMENTO</td>\n",
       "      <td>95823</td>\n",
       "      <td>CA</td>\n",
       "      <td>3</td>\n",
       "      <td>1</td>\n",
       "      <td>1167</td>\n",
       "      <td>Residential</td>\n",
       "      <td>Wed May 21 00:00:00 EDT 2008</td>\n",
       "      <td>68212</td>\n",
       "      <td>38.478902</td>\n",
       "      <td>-121.431028</td>\n",
       "    </tr>\n",
       "  </tbody>\n",
       "</table>\n",
       "</div>"
      ],
      "text/plain": [
       "         street        city    zip state  beds  baths  sq__ft         type  \\\n",
       "0  3526 HIGH ST  SACRAMENTO  95838    CA     2      1     836  Residential   \n",
       "1   51 OMAHA CT  SACRAMENTO  95823    CA     3      1    1167  Residential   \n",
       "\n",
       "                      sale_date  price   latitude   longitude  \n",
       "0  Wed May 21 00:00:00 EDT 2008  59222  38.631913 -121.434879  \n",
       "1  Wed May 21 00:00:00 EDT 2008  68212  38.478902 -121.431028  "
      ]
     },
     "execution_count": 11,
     "metadata": {},
     "output_type": "execute_result"
    }
   ],
   "source": [
    "house.head(2)"
   ]
  },
  {
   "cell_type": "markdown",
   "metadata": {
    "colab_type": "text",
    "id": "kQ_sd0-VXWuo"
   },
   "source": [
    "### 2. Predict Price"
   ]
  },
  {
   "cell_type": "markdown",
   "metadata": {
    "colab_type": "text",
    "id": "BsxIS3qqXWuq"
   },
   "source": [
    "We are going to predict `price` from available information."
   ]
  },
  {
   "cell_type": "markdown",
   "metadata": {
    "colab_type": "text",
    "id": "l9DkEfzHXWur"
   },
   "source": [
    "#### 2.1 What is the Target Variable? Why?"
   ]
  },
  {
   "cell_type": "code",
   "execution_count": 31,
   "metadata": {
    "colab": {},
    "colab_type": "code",
    "id": "HGONOtfFXWut"
   },
   "outputs": [],
   "source": [
    "# ANSWER\n",
    "# price.  It is a dependant variable.  "
   ]
  },
  {
   "cell_type": "markdown",
   "metadata": {
    "colab_type": "text",
    "id": "MDAu8eeXXWuz"
   },
   "source": [
    "#### 2.2 List all possible variables which might be Independent/Predictor variable."
   ]
  },
  {
   "cell_type": "code",
   "execution_count": 32,
   "metadata": {
    "colab": {},
    "colab_type": "code",
    "id": "PEDRGP1EXWu1"
   },
   "outputs": [],
   "source": [
    "# ANSWER\n",
    "# zip, beds, baths, sq__ft, type"
   ]
  },
  {
   "cell_type": "markdown",
   "metadata": {
    "colab_type": "text",
    "id": "w9x9iKhcXWu4"
   },
   "source": [
    "#### 2.3 Find correlation between variables\n",
    "\n",
    "Find correlation between variables. Which is the best predictor? Why? State your reason."
   ]
  },
  {
   "cell_type": "code",
   "execution_count": 14,
   "metadata": {
    "colab": {},
    "colab_type": "code",
    "id": "5OZ6kJeyXWu5"
   },
   "outputs": [
    {
     "data": {
      "image/png": "[encoded data removed]",
      "text/plain": [
       "<Figure size 864x720 with 2 Axes>"
      ]
     },
     "metadata": {
      "needs_background": "light"
     },
     "output_type": "display_data"
    }
   ],
   "source": [
    "# ANSWER\n",
    "sns.heatmap(house.corr(), annot=True);"
   ]
  },
  {
   "cell_type": "markdown",
   "metadata": {
    "colab_type": "text",
    "id": "tgWfh5snXWu8"
   },
   "source": [
    "#### 2.4 Find Coefficient and Intercept using Linear Regression\n",
    "\n",
    "Using LinearRegression of sklearn.linear_model package find Coefficient and Intercept.\n",
    "\n",
    "Create an instance of LinearRegression.\n",
    "\n",
    "Explore following methods:\n",
    "\n",
    "- fit\n",
    "- predict\n",
    "- score"
   ]
  },
  {
   "cell_type": "code",
   "execution_count": 15,
   "metadata": {
    "colab": {},
    "colab_type": "code",
    "id": "SbiQavKvXWu9"
   },
   "outputs": [],
   "source": [
    "from sklearn.linear_model import LinearRegression\n",
    "\n",
    "lm =LinearRegression()"
   ]
  },
  {
   "cell_type": "markdown",
   "metadata": {
    "colab_type": "text",
    "id": "lVWhSV7BXWu_"
   },
   "source": [
    "##### 2.4.1 Fit predictor and target variables using linear regression "
   ]
  },
  {
   "cell_type": "code",
   "execution_count": 18,
   "metadata": {
    "colab": {},
    "colab_type": "code",
    "id": "6cplIG9RXWvA"
   },
   "outputs": [
    {
     "data": {
      "text/plain": [
       "LinearRegression()"
      ]
     },
     "execution_count": 18,
     "metadata": {},
     "output_type": "execute_result"
    }
   ],
   "source": [
    "# ANSWER\n",
    "\n",
    "X = house.loc[:,'beds':'sq__ft']\n",
    "Y = house['price']\n",
    "lm.fit(X,Y)"
   ]
  },
  {
   "cell_type": "markdown",
   "metadata": {
    "colab_type": "text",
    "id": "0Qv0pyZNXWvC"
   },
   "source": [
    "##### 2.4.2 Find R Score"
   ]
  },
  {
   "cell_type": "markdown",
   "metadata": {
    "colab_type": "text",
    "id": "j5Lix6tlXWvD"
   },
   "source": [
    "Find $R^2$ Using ```score``` method of Linear Regression."
   ]
  },
  {
   "cell_type": "code",
   "execution_count": 19,
   "metadata": {
    "colab": {},
    "colab_type": "code",
    "id": "JrJDTlJrXWvF"
   },
   "outputs": [
    {
     "data": {
      "text/plain": [
       "0.18055988065088857"
      ]
     },
     "execution_count": 19,
     "metadata": {},
     "output_type": "execute_result"
    }
   ],
   "source": [
    "# ANSWER\n",
    "lm.score(X,Y)"
   ]
  },
  {
   "cell_type": "markdown",
   "metadata": {
    "colab_type": "text",
    "id": "BiVDrqFhXWvN"
   },
   "source": [
    "### 3. Splitting Data"
   ]
  },
  {
   "cell_type": "code",
   "execution_count": 20,
   "metadata": {
    "colab": {},
    "colab_type": "code",
    "id": "I4tgG88GXWvQ"
   },
   "outputs": [],
   "source": [
    "from sklearn.model_selection import train_test_split"
   ]
  },
  {
   "cell_type": "markdown",
   "metadata": {
    "colab_type": "text",
    "id": "hTgSdUpwXWvW"
   },
   "source": [
    "#### 3.1 Create training and testing subsets\n",
    "\n",
    "Hint: Using `train_test_split` Library.\n",
    "\n",
    "```\n",
    "X_train, X_test, y_train, y_test = train_test_split(X, y, test_size=0.33, random_state=42)\n",
    "```"
   ]
  },
  {
   "cell_type": "code",
   "execution_count": 21,
   "metadata": {
    "colab": {},
    "colab_type": "code",
    "id": "iYSlAV_gXWvX"
   },
   "outputs": [],
   "source": [
    "# ANSWER\n",
    "## Create training and testing subsets\n",
    "\n",
    "X_train, X_test, y_train, y_test = train_test_split(X, Y, test_size=0.33, random_state=42)"
   ]
  },
  {
   "cell_type": "markdown",
   "metadata": {
    "colab_type": "text",
    "id": "P62hTi0IXWva"
   },
   "source": [
    "#### 3.2 Check Shape, Sample of Test Train Data"
   ]
  },
  {
   "cell_type": "code",
   "execution_count": 22,
   "metadata": {
    "colab": {},
    "colab_type": "code",
    "id": "larfqlLQXWvb"
   },
   "outputs": [
    {
     "data": {
      "text/plain": [
       "((659, 3), (326, 3), (659,), (326,))"
      ]
     },
     "execution_count": 22,
     "metadata": {},
     "output_type": "execute_result"
    }
   ],
   "source": [
    "# ANSWER\n",
    "## Check training/test data\n",
    "\n",
    "X_train.shape, X_test.shape, y_train.shape, y_test.shape"
   ]
  },
  {
   "cell_type": "markdown",
   "metadata": {
    "colab_type": "text",
    "id": "FhemsdjyXWvd"
   },
   "source": [
    "#### 3.3 Using Linear Regression Find The Score\n",
    "\n",
    "1. Fit model using X_train, y_train\n",
    "2. Find score using X_test, y_test"
   ]
  },
  {
   "cell_type": "code",
   "execution_count": 23,
   "metadata": {
    "colab": {},
    "colab_type": "code",
    "id": "yqNCjOW3XWve"
   },
   "outputs": [
    {
     "data": {
      "text/plain": [
       "LinearRegression()"
      ]
     },
     "execution_count": 23,
     "metadata": {},
     "output_type": "execute_result"
    }
   ],
   "source": [
    "# ANSWER\n",
    "\n",
    "lm.fit(X_train,y_train )"
   ]
  },
  {
   "cell_type": "code",
   "execution_count": 41,
   "metadata": {
    "colab": {},
    "colab_type": "code",
    "id": "rT5Qvx_pXWvi"
   },
   "outputs": [],
   "source": [
    "# ANSWER"
   ]
  },
  {
   "cell_type": "markdown",
   "metadata": {
    "colab_type": "text",
    "id": "wSAtgNXXXWvk"
   },
   "source": [
    "### 4. Predict House Price\n",
    "\n",
    "Let's assume we have information of following house:\n",
    "\n",
    "- street:\t1140 EDMONTON DR\n",
    "- city:\tSACRAMENTO\n",
    "- zip:\t95833\n",
    "- state:\tCA\n",
    "- beds:\t3\n",
    "- baths:\t2\n",
    "- sq__ft:\t1204\n",
    "- type:\tResidential\n",
    "\n",
    "**Predict the price of this house using linear regression model.**"
   ]
  },
  {
   "cell_type": "code",
   "execution_count": 25,
   "metadata": {
    "colab": {},
    "colab_type": "code",
    "id": "zwMk_GoVXWvk"
   },
   "outputs": [
    {
     "data": {
      "text/plain": [
       "array([241221.89856562])"
      ]
     },
     "execution_count": 25,
     "metadata": {},
     "output_type": "execute_result"
    }
   ],
   "source": [
    "# ANSWER\n",
    "y_pred = np.array([3,2,1204]).reshape(-1,3)\n",
    "lm.predict(y_pred)"
   ]
  },
  {
   "cell_type": "markdown",
   "metadata": {},
   "source": [
    "#### Find the error"
   ]
  },
  {
   "cell_type": "code",
   "execution_count": 26,
   "metadata": {},
   "outputs": [
    {
     "data": {
      "text/plain": [
       "array([178653.66192178, 372343.23475289, 249016.61691251, 306227.27010156,\n",
       "       244543.39464219, 118248.61054983, 237256.2551637 , 239963.64101737,\n",
       "       118248.61054983, 118248.61054983, 172048.10418833, 118248.61054983,\n",
       "       240563.76931205, 296760.07747064, 172315.46919759, 245150.10754782,\n",
       "       177512.21899763, 177522.50226721, 118248.61054983, 319287.02247696,\n",
       "       239243.81214629, 242846.65516035, 252841.99319885, 241849.17801042,\n",
       "       240913.40047801, 245540.87179213, 308294.20728853, 248567.85170932,\n",
       "       236837.52706295, 247741.49148373, 241890.31108877, 307378.9962953 ,\n",
       "       244317.16271128, 244491.97829426, 118248.61054983, 172994.16499033,\n",
       "       245853.06853837, 245304.35659163, 247940.57226452, 118248.61054983,\n",
       "       309219.70155136, 175609.81412405, 118248.61054983, 312068.16722693,\n",
       "       307378.9962953 , 237166.59168973, 243340.25210052, 314567.00173656,\n",
       "       174125.32464489, 323592.01377524, 243823.56577111, 241674.36242744,\n",
       "       244707.92695559, 239716.84254729, 118248.61054983, 172264.05284965,\n",
       "       232014.67362668, 241304.16472231, 240604.9023904 , 118248.61054983,\n",
       "       312465.51608218, 185567.71774283, 235315.60316408, 244954.72542567,\n",
       "       242627.00784039, 178468.56306921, 176644.72569368, 238061.23614379,\n",
       "       250871.3040968 , 241201.33202644, 177913.26651152, 279929.25110914,\n",
       "       177512.21899763, 311111.82315535, 243401.95171805, 118248.61054983,\n",
       "       182211.67319885, 176130.56221434, 251176.10352576, 242867.22169953,\n",
       "       118248.61054983, 118248.61054983, 179949.35388973, 246552.33087029,\n",
       "       240179.5896787 , 243751.582884  , 253688.91996361, 248430.47054605,\n",
       "       118248.61054983, 118248.61054983, 384004.46246447, 241108.78260016,\n",
       "       118248.61054983, 250479.72714616, 239535.44235336, 118248.61054983,\n",
       "       241012.53451524, 240738.58489503, 237256.2551637 , 240039.32256312,\n",
       "       171307.70877807, 312157.01799458, 240933.96701718, 241355.58107025,\n",
       "       240193.57160692, 118248.61054983, 170762.69548996, 118248.61054983,\n",
       "       118248.61054983, 311790.51894809, 313668.65862386, 243299.11902218,\n",
       "       176552.1762674 , 174197.307532  , 178345.16383417, 236827.24379336,\n",
       "       170546.74682864, 241592.09627075, 236744.97763666, 241849.17801042,\n",
       "       244831.32619063, 233711.41310852, 118248.61054983, 170916.94453377,\n",
       "       118248.61054983, 118248.61054983, 244817.3442624 , 246966.54760607,\n",
       "       246486.93259412, 242497.0239944 , 307780.04380919, 240964.81682594,\n",
       "       242928.92131705, 251155.53698659, 249359.66346752, 237553.65727539,\n",
       "       236611.29513203, 241335.01453107, 177775.88534825, 118248.61054983,\n",
       "       244765.92791447, 288344.66428989, 118248.61054983, 246521.48106153,\n",
       "       304064.08482966, 241777.19512331, 240327.25411155, 247233.91261533,\n",
       "       316356.29064468, 240919.98508896, 241047.08298264, 238153.78557007,\n",
       "       319914.30192176, 241180.76548727, 174906.85313349, 250435.7081155 ,\n",
       "       306727.45165268, 244471.41175509, 177892.69997234, 177347.68668424,\n",
       "       240759.15143421, 316938.7383525 , 236457.04608823, 318882.27630443,\n",
       "       118248.61054983, 118248.61054983, 322865.60029321, 315698.16139112,\n",
       "       172027.53764915, 174608.63831547, 118248.61054983, 238712.78078641,\n",
       "       445033.90732891, 301894.31494682, 241674.36242744, 118248.61054983,\n",
       "       244954.72542567, 242980.33766498, 248752.95056189, 174670.33793299,\n",
       "       118248.61054983, 228840.84198296, 242229.65898514, 242003.42705422,\n",
       "       323719.11166892, 171184.30954303, 181049.66373553, 306196.4202928 ,\n",
       "       229614.97315428, 178931.31020062, 118248.61054983, 118248.61054983,\n",
       "       174879.70198337, 243638.46691855, 247453.5599353 , 244029.23116285,\n",
       "       242599.85669027, 248193.95534555, 303375.10576734, 372963.92958675,\n",
       "       235459.5689383 , 308283.92401895, 250161.7584953 , 241818.32820166,\n",
       "       179085.55924443, 118248.61054983, 240316.97084197, 240687.1685471 ,\n",
       "       246174.73584788, 118248.61054983, 391196.16656437, 243233.72074601,\n",
       "       170793.54529872, 253249.62532368, 118248.61054983, 254089.9674775 ,\n",
       "       241567.83107293, 243607.61710978, 251046.11967977, 172048.10418833,\n",
       "       239542.02696431, 233557.16406472, 233588.01387348, 220425.42880221,\n",
       "       177954.39958987, 254634.98076561, 322499.10124672, 228840.84198296,\n",
       "       177522.50226721, 246034.4687323 , 168078.76212777, 232580.25345396,\n",
       "       246096.16834982, 243155.15324796, 173559.74481761, 172459.43497181,\n",
       "       241026.51644347, 386369.61446946, 288344.66428989, 259279.31996026,\n",
       "       171801.30571824, 308619.57325667, 118248.61054983, 248804.36690982,\n",
       "       178228.34921007, 234215.29331828, 241499.54684446, 238359.45096181,\n",
       "       177512.21899763, 321549.34178608, 240029.03929353, 311327.77181668,\n",
       "       238188.33403747, 236570.16205369, 234636.90737134, 178705.07826971,\n",
       "       241252.74837438, 244677.07714682, 244169.49827843, 246696.2966445 ,\n",
       "       244296.59617211, 244375.16367016, 242147.39282844, 232590.53672354,\n",
       "       118248.61054983, 242075.40994133, 244440.56194633, 311560.58835854,\n",
       "       178591.96230425, 243905.83192781, 243350.53537011, 246024.18546271,\n",
       "       166655.97226614, 312572.04743669, 235017.38834606, 228840.84198296,\n",
       "       312808.56263719, 243340.25210052, 242486.74072481, 242651.2730382 ,\n",
       "       241797.76166248, 179455.75694956, 308253.07421018, 118248.61054983,\n",
       "       179250.09155782, 173025.01479909, 288344.66428989, 400512.80881013,\n",
       "       240604.9023904 , 228840.84198296, 241273.31491355, 309898.39734409,\n",
       "       118248.61054983, 319838.62037601, 118248.61054983, 174742.3208201 ,\n",
       "       179517.45656708, 246291.55047197, 279929.25110914, 237485.37304692,\n",
       "       239511.17715555, 237752.73805618, 308427.88979316, 236693.56128873,\n",
       "       248968.89922321, 246733.73106421, 237043.19245468, 307560.39648922,\n",
       "       220425.42880221, 279929.25110914, 252224.99702363, 118248.61054983,\n",
       "       175894.04701384, 228840.84198296, 118248.61054983, 242414.7578377 ,\n",
       "       288344.66428989, 118248.61054983, 178900.46039186, 177933.83305069,\n",
       "       228840.84198296, 180031.62004642, 239840.24178233, 320897.79714347,\n",
       "       309785.28137864, 171616.20686568])"
      ]
     },
     "execution_count": 26,
     "metadata": {},
     "output_type": "execute_result"
    }
   ],
   "source": [
    "# Predict price from X_test\n",
    "\n",
    "lm.predict(X_test)"
   ]
  },
  {
   "cell_type": "markdown",
   "metadata": {
    "colab_type": "text",
    "id": "fRx7LEfql5pu"
   },
   "source": [
    "\n",
    "\n",
    "---\n",
    "\n",
    "\n",
    "\n",
    "---\n",
    "\n",
    "\n",
    "\n",
    "> > > > > > > > > © 2021 Institute of Data\n",
    "\n",
    "\n",
    "---\n",
    "\n",
    "\n",
    "\n",
    "---\n",
    "\n",
    "\n",
    "\n"
   ]
  }
 ],
 "metadata": {
  "colab": {
   "collapsed_sections": [],
   "name": "DSIA Lab 4.1.2.ipynb",
   "provenance": []
  },
  "kernelspec": {
   "display_name": "Python 3",
   "language": "python",
   "name": "python3"
  },
  "language_info": {
   "codemirror_mode": {
    "name": "ipython",
    "version": 3
   },
   "file_extension": ".py",
   "mimetype": "text/x-python",
   "name": "python",
   "nbconvert_exporter": "python",
   "pygments_lexer": "ipython3",
   "version": "3.8.5"
  }
 },
 "nbformat": 4,
 "nbformat_minor": 1
}
