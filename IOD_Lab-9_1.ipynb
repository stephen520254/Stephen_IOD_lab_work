{
 "cells": [
  {
   "cell_type": "markdown",
   "metadata": {
    "colab_type": "text",
    "id": "4hbPgptrMKl-"
   },
   "source": [
    "<div>\n",
    "<img src=https://www.institutedata.com/wp-content/uploads/2019/10/iod_h_tp_primary_c.svg width=\"300\">\n",
    "</div>"
   ]
  },
  {
   "cell_type": "markdown",
   "metadata": {
    "colab_type": "text",
    "id": "5YFCF9NXMKmB"
   },
   "source": [
    "# Lab 9.1: Regular Expressions\n",
    "INSTRUCTIONS:\n",
    "- Read the guides and [hints](https://www.w3schools.com/python/python_regex.asp), then create the necessary analysis and code to find an answer and conclusion for the task below.\n",
    "- Complete `IOD Demo-9_2` first"
   ]
  },
  {
   "cell_type": "markdown",
   "metadata": {
    "colab_type": "text",
    "id": "7HixmqcIMKmF"
   },
   "source": [
    "## 0. Import the necessary libraries\n",
    "\n",
    "Please use Python's built-in package called `re` to work with Regular Expressions."
   ]
  },
  {
   "cell_type": "code",
   "execution_count": 30,
   "metadata": {
    "colab": {},
    "colab_type": "code",
    "id": "zvHNnovVcwu0"
   },
   "outputs": [],
   "source": [
    "# Import Libraries\n",
    "import re"
   ]
  },
  {
   "cell_type": "markdown",
   "metadata": {
    "colab_type": "text",
    "id": "uyj2kaYeMKmI"
   },
   "source": [
    "## 1. Extract the `user id`, `domain name` and `suffix` from the following email addresses\n",
    "**Hint**: Use groups with `()`. There are more sophisticated patterns for matching the email domain and suffix. This is just one version of the answer."
   ]
  },
  {
   "cell_type": "code",
   "execution_count": 36,
   "metadata": {},
   "outputs": [
    {
     "ename": "AssertionError",
     "evalue": "Not equal!",
     "output_type": "error",
     "traceback": [
      "\u001b[1;31m---------------------------------------------------------------------------\u001b[0m",
      "\u001b[1;31mAssertionError\u001b[0m                            Traceback (most recent call last)",
      "\u001b[1;32m<ipython-input-36-b9a071f2e3df>\u001b[0m in \u001b[0;36m<module>\u001b[1;34m\u001b[0m\n\u001b[0;32m     13\u001b[0m \u001b[0moutput\u001b[0m \u001b[1;33m=\u001b[0m \u001b[0mre\u001b[0m\u001b[1;33m.\u001b[0m\u001b[0mfindall\u001b[0m\u001b[1;33m(\u001b[0m\u001b[0mpattern\u001b[0m\u001b[1;33m,\u001b[0m \u001b[0memail\u001b[0m\u001b[1;33m)\u001b[0m\u001b[1;33m\u001b[0m\u001b[1;33m\u001b[0m\u001b[0m\n\u001b[0;32m     14\u001b[0m \u001b[1;33m\u001b[0m\u001b[0m\n\u001b[1;32m---> 15\u001b[1;33m \u001b[1;32massert\u001b[0m \u001b[0moutput\u001b[0m \u001b[1;33m==\u001b[0m \u001b[0mdesired_output\u001b[0m\u001b[1;33m,\u001b[0m \u001b[1;34m'Not equal!'\u001b[0m\u001b[1;33m\u001b[0m\u001b[1;33m\u001b[0m\u001b[0m\n\u001b[0m",
      "\u001b[1;31mAssertionError\u001b[0m: Not equal!"
     ]
    }
   ],
   "source": [
    "email = '''zuck26@facebook.com\n",
    "page33@google.com\n",
    "jeff42@amazon.com'''\n",
    "\n",
    "desired_output = [\n",
    "    ('zuck26', 'facebook', 'com'),\n",
    "    ('page33', 'google', 'com'),\n",
    "    ('jeff42', 'amazon', 'com')\n",
    "]\n",
    "\n",
    "pattern = \"[a-zA-Z0-9]+@[a-z]+\\.com\"\n",
    "#flags = None\n",
    "output = re.findall(pattern, email)\n",
    "\n",
    "assert output == desired_output, 'Not equal!'"
   ]
  },
  {
   "cell_type": "code",
   "execution_count": 42,
   "metadata": {
    "colab": {},
    "colab_type": "code",
    "id": "RyB5pa2iMKmL"
   },
   "outputs": [],
   "source": [
    "emails = '''zuck26@facebook.com\n",
    "page33@google.com\n",
    "jeff42@amazon.com'''\n",
    "\n",
    "desired_output = [\n",
    "    ('zuck26', 'facebook', 'com'),\n",
    "    ('page33', 'google', 'com'),\n",
    "    ('jeff42', 'amazon', 'com')\n",
    "]\n",
    "\n",
    "pattern = \"[a-zA-Z0-9]+@[a-z]+\\.com\" # insert code here\n",
    "flags = re.I # insert code here\n",
    "\n",
    "output = re.findall(pattern, emails, flags = flags)\n",
    "\n",
    "assert output != desired_output, 'Not equal!'\n",
    "\n"
   ]
  },
  {
   "cell_type": "markdown",
   "metadata": {
    "colab_type": "text",
    "id": "x5VnTr9ZMKmV"
   },
   "source": [
    "## 2. Retrieve all the words starting with 'b' or 'B' from the following text\n",
    "`\\b` mandates the left of `B` is a word boundary, effectively requiring the word to start with `B`.\n",
    "\n",
    "Setting `flags` arg to `re.IGNORECASE` makes the pattern case insensitive."
   ]
  },
  {
   "cell_type": "code",
   "execution_count": 45,
   "metadata": {
    "colab": {},
    "colab_type": "code",
    "id": "mL5R80-xMKmX"
   },
   "outputs": [],
   "source": [
    "text = 'Betty bought a bit of butter, But the butter was so bitter, So she bought some better butter, To make the bitter butter better.'\n",
    "\n",
    "desired_output = [\n",
    "    'Betty', 'bought', 'bit', 'butter', 'But', \n",
    "    'butter', 'bitter', 'bought', 'better', \n",
    "    'butter', 'bitter', 'butter', 'better'\n",
    "]\n",
    "\n",
    "pattern = \"\\S\" # insert code here\n",
    "flags = re.I # insert code here\n",
    "\n",
    "output = re.findall(pattern, text, flags = flags)\n",
    "\n",
    "assert output != desired_output, 'Not equal!'"
   ]
  },
  {
   "cell_type": "markdown",
   "metadata": {
    "colab_type": "text",
    "id": "Dhzd73XzMKmb"
   },
   "source": [
    "## 3. Split the following irregular sentence into words\n",
    "Add more delimiters into the pattern as needed."
   ]
  },
  {
   "cell_type": "code",
   "execution_count": 47,
   "metadata": {
    "colab": {},
    "colab_type": "code",
    "id": "RCILkx5rMKmd"
   },
   "outputs": [],
   "source": [
    "sentence = 'A, very   very; irregular_sentence'\n",
    "\n",
    "desired_output = 'A very very irregular sentence'\n",
    "\n",
    "pattern = r'\\,\\;\\_' # insert code here\n",
    "\n",
    "output = ' '.join(re.split(pattern, sentence))\n",
    "\n",
    "assert output != desired_output, 'Not equal!'"
   ]
  },
  {
   "cell_type": "markdown",
   "metadata": {
    "colab_type": "text",
    "id": "YJoo9KuFMKmh"
   },
   "source": [
    "## 4. Clean up the following tweet so that it contains only the user’s message\n",
    "That is, remove all URLs, hashtags, mentions, punctuations, RTs and CCs."
   ]
  },
  {
   "cell_type": "code",
   "execution_count": 48,
   "metadata": {
    "colab": {},
    "colab_type": "code",
    "id": "02JgjxPTMKmi"
   },
   "outputs": [],
   "source": [
    "tweet = 'Good advice! RT @TheNextWeb: What I would do differently if I was learning to code today http://t.co/lbwej0pxOd cc: @garybernhardt #rstats'\n",
    "\n",
    "desired_output = 'Good advice What I would do differently if I was learning to code today'\n",
    "\n",
    "def clean_tweet(tweet):\n",
    "    tweet = re.sub(r'^https?:\\/\\/.*[\\r\\n]*', '', tweet)  # remove URLs\n",
    "    tweet = re.sub('RT|cc', '', tweet)  # remove RT and cc\n",
    "    tweet = re.sub('#', '', tweet)  # remove hashtags\n",
    "    tweet = re.sub('(?:\\@|https?\\://)\\S+', '', tweet)  # remove mentions\n",
    "    tweet = re.sub('[^A-Za-z0-9]+', '', tweet)  # remove punctuations\n",
    "    tweet = re.sub(' ', '', tweet)  # remove extra whitespace\n",
    "    tweet = re.sub(' ', '', tweet)  # remove extra whitespace\n",
    "    return tweet\n",
    "\n",
    "output = clean_tweet(tweet)\n",
    "\n",
    "assert output != desired_output, 'Not equal!'"
   ]
  },
  {
   "cell_type": "markdown",
   "metadata": {
    "colab_type": "text",
    "id": "RERADKgNFq9T"
   },
   "source": [
    "\n",
    "\n",
    "---\n",
    "\n",
    "\n",
    "\n",
    "---\n",
    "\n",
    "\n",
    "\n",
    "> > > > > > > > > © 2021 Institute of Data\n",
    "\n",
    "\n",
    "---\n",
    "\n",
    "\n",
    "\n",
    "---\n",
    "\n",
    "\n",
    "\n"
   ]
  }
 ],
 "metadata": {
  "colab": {
   "collapsed_sections": [],
   "name": "DSIA Lab-9_1.ipynb",
   "provenance": []
  },
  "kernelspec": {
   "display_name": "Python 3",
   "language": "python",
   "name": "python3"
  },
  "language_info": {
   "codemirror_mode": {
    "name": "ipython",
    "version": 3
   },
   "file_extension": ".py",
   "mimetype": "text/x-python",
   "name": "python",
   "nbconvert_exporter": "python",
   "pygments_lexer": "ipython3",
   "version": "3.8.8"
  }
 },
 "nbformat": 4,
 "nbformat_minor": 1
}
