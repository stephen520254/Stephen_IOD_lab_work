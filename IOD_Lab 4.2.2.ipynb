{
 "cells": [
  {
   "cell_type": "markdown",
   "metadata": {
    "colab_type": "text",
    "id": "9XIMscuZXR3_"
   },
   "source": [
    "<div>\n",
    "<img src=https://www.institutedata.com/wp-content/uploads/2019/10/iod_h_tp_primary_c.svg width=\"300\">\n",
    "</div>"
   ]
  },
  {
   "cell_type": "markdown",
   "metadata": {
    "colab_type": "text",
    "id": "_MEq0z1KXR4C"
   },
   "source": [
    "## Lab 4.2.2: Feature Selection"
   ]
  },
  {
   "cell_type": "code",
   "execution_count": 15,
   "metadata": {
    "colab": {},
    "colab_type": "code",
    "id": "Od_2rcZkXR4D"
   },
   "outputs": [],
   "source": [
    "import pandas as pd\n",
    "import numpy as np\n",
    "import matplotlib.pyplot as plt\n",
    "import seaborn as sns\n",
    "from sklearn.model_selection import train_test_split\n",
    "from sklearn.linear_model import LinearRegression\n",
    "from sklearn.metrics import mean_squared_error, r2_score\n",
    "\n",
    "%matplotlib inline"
   ]
  },
  {
   "cell_type": "markdown",
   "metadata": {
    "colab_type": "text",
    "id": "mADumyI3XR4G"
   },
   "source": [
    "### 5. Forward Feature Selection\n",
    "\n",
    "> Forward Selection: Forward selection is an iterative method in which we start with having no feature in the model. In each iteration, we keep adding the feature which best improves our model till an addition of a new variable does not improve the performance of the model.\n",
    "\n",
    "Create a Regression model using Forward Feature Selection by looping over all the features adding one at a time until there are no improvements on the prediction metric ( R2  and  AdjustedR2  in this case)."
   ]
  },
  {
   "cell_type": "markdown",
   "metadata": {
    "colab_type": "text",
    "id": "Ha-2bFwdXR4H"
   },
   "source": [
    "#### 5.1 Load Wine Data & Define Predictor and Target"
   ]
  },
  {
   "cell_type": "code",
   "execution_count": 11,
   "metadata": {
    "colab": {},
    "colab_type": "code",
    "id": "dKp1loQLXR4H"
   },
   "outputs": [],
   "source": [
    "## Load the wine quality dataset\n",
    "\n",
    "# Load the wine dataset from csv\n",
    "wine = pd.read_csv('winequality_merged.csv')\n",
    "\n",
    "# define the target variable (dependent variable) as y\n",
    "y = wine['quality']\n",
    "\n",
    "# Take all columns except target as predictor columns\n",
    "predictor_columns = [c for c in wine.columns if c != 'quality']\n",
    "# Load the dataset as a pandas data frame\n",
    "X = pd.DataFrame(wine, columns = predictor_columns)"
   ]
  },
  {
   "cell_type": "code",
   "execution_count": 12,
   "metadata": {
    "colab": {},
    "colab_type": "code",
    "id": "_IaxFgFkXR4K"
   },
   "outputs": [],
   "source": [
    "## Create training and testing subsets\n",
    "\n",
    "X_train, X_test, y_train, y_test = train_test_split(X, y, test_size = 0.2)"
   ]
  },
  {
   "cell_type": "markdown",
   "metadata": {
    "colab_type": "text",
    "id": "sHGOCW66XR4M"
   },
   "source": [
    "#### 5.2 Overview of the code below\n",
    "\n",
    "The external `while` loop goes forever until there are no improvements to the model, which is controlled by the flag `changed` (until is **not** changed).\n",
    "The inner `for` loop goes over each of the features not yet included in the model and calculates the correlation coefficient. If any model improves on the previous best model then the records are updated.\n",
    "\n",
    "#### Code variables\n",
    "- `included`: list of the features (predictors) that were included in the model; starts empty.\n",
    "- `excluded`: list of features that have **not** been included in the model; starts as the full list of features.\n",
    "- `best`: dictionary to keep record of the best model found at any stage; starts 'empty'.\n",
    "- `model`: object of class LinearRegression, with default values for all parameters.\n",
    "\n",
    "#### Methods of the `LinearRegression` object to investigate\n",
    "- `fit()`\n",
    "- `fit.score()`\n",
    "\n",
    "#### Adjusted $R^2$ formula\n",
    "$$Adjusted \\; R^2 = 1 - { (1 - R^2) (n - 1)  \\over n - k - 1 }$$\n",
    "\n",
    "#### Linear Regression [reference](http://scikit-learn.org/stable/modules/generated/sklearn.linear_model.LinearRegression.html#sklearn.linear_model.LinearRegression)"
   ]
  },
  {
   "cell_type": "code",
   "execution_count": 13,
   "metadata": {
    "colab": {},
    "colab_type": "code",
    "id": "LVJY9yXaXR4M"
   },
   "outputs": [],
   "source": [
    "## Flag intermediate output\n",
    "\n",
    "show_steps = True   # for testing/debugging\n",
    "# show_steps = False  # without showing steps"
   ]
  },
  {
   "cell_type": "code",
   "execution_count": 18,
   "metadata": {
    "colab": {},
    "colab_type": "code",
    "id": "vxROsvaIXR4P"
   },
   "outputs": [
    {
     "name": "stdout",
     "output_type": "stream",
     "text": [
      "\n",
      "(Step) Excluded = volatile acidity, red_wine, chlorides, free sulfur dioxide, fixed acidity, total sulfur dioxide, citric acid, residual sugar, sulphates, alcohol, pH, density\n",
      "(Step) Trying volatile acidity...\n",
      "(Step) - Features = volatile acidity\n",
      "(Step) - Adjusted R^2: This = 0.296; Best = 0.000\n",
      "(Step) - New Best!   : Feature = volatile acidity; R^2 = 0.296; Adjusted R^2 = 0.296\n",
      "(Step) Trying red_wine...\n",
      "(Step) - Features = red_wine\n",
      "(Step) - Adjusted R^2: This = 0.296; Best = 0.296\n",
      "(Step) Trying chlorides...\n",
      "(Step) - Features = chlorides\n",
      "(Step) - Adjusted R^2: This = 0.296; Best = 0.296\n",
      "(Step) Trying free sulfur dioxide...\n",
      "(Step) - Features = free sulfur dioxide\n",
      "(Step) - Adjusted R^2: This = 0.296; Best = 0.296\n",
      "(Step) Trying fixed acidity...\n",
      "(Step) - Features = fixed acidity\n",
      "(Step) - Adjusted R^2: This = 0.296; Best = 0.296\n",
      "(Step) Trying total sulfur dioxide...\n",
      "(Step) - Features = total sulfur dioxide\n",
      "(Step) - Adjusted R^2: This = 0.296; Best = 0.296\n",
      "(Step) Trying citric acid...\n",
      "(Step) - Features = citric acid\n",
      "(Step) - Adjusted R^2: This = 0.296; Best = 0.296\n",
      "(Step) Trying residual sugar...\n",
      "(Step) - Features = residual sugar\n",
      "(Step) - Adjusted R^2: This = 0.296; Best = 0.296\n",
      "(Step) Trying sulphates...\n",
      "(Step) - Features = sulphates\n",
      "(Step) - Adjusted R^2: This = 0.296; Best = 0.296\n",
      "(Step) Trying alcohol...\n",
      "(Step) - Features = alcohol\n",
      "(Step) - Adjusted R^2: This = 0.296; Best = 0.296\n",
      "(Step) Trying pH...\n",
      "(Step) - Features = pH\n",
      "(Step) - Adjusted R^2: This = 0.296; Best = 0.296\n",
      "(Step) Trying density...\n",
      "(Step) - Features = density\n",
      "(Step) - Adjusted R^2: This = 0.296; Best = 0.296\n",
      "Added feature volatile acidity with R^2 = 0.296 and adjusted R^2 = 0.296\n",
      "\n",
      "(Step) Excluded = red_wine, chlorides, free sulfur dioxide, fixed acidity, total sulfur dioxide, citric acid, residual sugar, sulphates, alcohol, pH, density\n",
      "(Step) Trying red_wine...\n",
      "(Step) - Features = volatile acidity, red_wine\n",
      "(Step) - Adjusted R^2: This = 0.295; Best = 0.296\n",
      "(Step) Trying chlorides...\n",
      "(Step) - Features = volatile acidity, chlorides\n",
      "(Step) - Adjusted R^2: This = 0.295; Best = 0.296\n",
      "(Step) Trying free sulfur dioxide...\n",
      "(Step) - Features = volatile acidity, free sulfur dioxide\n",
      "(Step) - Adjusted R^2: This = 0.295; Best = 0.296\n",
      "(Step) Trying fixed acidity...\n",
      "(Step) - Features = volatile acidity, fixed acidity\n",
      "(Step) - Adjusted R^2: This = 0.295; Best = 0.296\n",
      "(Step) Trying total sulfur dioxide...\n",
      "(Step) - Features = volatile acidity, total sulfur dioxide\n",
      "(Step) - Adjusted R^2: This = 0.295; Best = 0.296\n",
      "(Step) Trying citric acid...\n",
      "(Step) - Features = volatile acidity, citric acid\n",
      "(Step) - Adjusted R^2: This = 0.295; Best = 0.296\n",
      "(Step) Trying residual sugar...\n",
      "(Step) - Features = volatile acidity, residual sugar\n",
      "(Step) - Adjusted R^2: This = 0.295; Best = 0.296\n",
      "(Step) Trying sulphates...\n",
      "(Step) - Features = volatile acidity, sulphates\n",
      "(Step) - Adjusted R^2: This = 0.295; Best = 0.296\n",
      "(Step) Trying alcohol...\n",
      "(Step) - Features = volatile acidity, alcohol\n",
      "(Step) - Adjusted R^2: This = 0.295; Best = 0.296\n",
      "(Step) Trying pH...\n",
      "(Step) - Features = volatile acidity, pH\n",
      "(Step) - Adjusted R^2: This = 0.295; Best = 0.296\n",
      "(Step) Trying density...\n",
      "(Step) - Features = volatile acidity, density\n",
      "(Step) - Adjusted R^2: This = 0.295; Best = 0.296\n",
      "\n",
      "Resulting features:\n",
      "volatile acidity\n"
     ]
    }
   ],
   "source": [
    "## Use Forward Feature Selection to pick a good model\n",
    "\n",
    "# start with no predictors\n",
    "included = []\n",
    "# keep track of model and parameters\n",
    "best = {'feature': '', 'r2': 0, 'a_r2': 0}\n",
    "# create a model object to hold the modelling parameters\n",
    "model = LinearRegression() # create a model for Linear Regression\n",
    "# get the number of cases in the test data\n",
    "n = X_test.shape[0]\n",
    "\n",
    "while True:\n",
    "    changed = False\n",
    "    \n",
    "    if show_steps:\n",
    "        print('') \n",
    "\n",
    "    # list the features to be evaluated\n",
    "    excluded = list(set(X.columns) - set(included))\n",
    "    \n",
    "    if show_steps:\n",
    "        print('(Step) Excluded = %s' % ', '.join(excluded))  \n",
    "\n",
    "    # for each remaining feature to be evaluated\n",
    "    for new_column in excluded:\n",
    "        \n",
    "        if show_steps:\n",
    "            print('(Step) Trying %s...' % new_column)\n",
    "            print('(Step) - Features = %s' % ', '.join(included + [new_column]))\n",
    "\n",
    "        # fit the model with the Training data\n",
    "        model.fit(X_train, y_train) # fit a model; consider which predictors should be included\n",
    "        # calculate the score (R^2 for Regression)\n",
    "        r2=r2_score(y_test, model.predict(X_test)) # calculate the score\n",
    "        # number of predictors in this model\n",
    "        k = len(included) + 1\n",
    "        # calculate the adjusted R^2\n",
    "        adjusted_r2 = 1- (((1-r2)*(n-1))/(n-k-1)) # calculate the Adjusted R^2\n",
    "\n",
    "        if show_steps:\n",
    "            print('(Step) - Adjusted R^2: This = %.3f; Best = %.3f' % \n",
    "                  (adjusted_r2, best['a_r2']))\n",
    "\n",
    "        # if model improves\n",
    "        if adjusted_r2 > best['a_r2']:\n",
    "            # record new parameters\n",
    "            best = {'feature': new_column, 'r2': r2, 'a_r2': adjusted_r2}\n",
    "            # flag that found a better model\n",
    "            changed = True\n",
    "            if show_steps:\n",
    "                print('(Step) - New Best!   : Feature = %s; R^2 = %.3f; Adjusted R^2 = %.3f' % \n",
    "                      (best['feature'], best['r2'], best['a_r2']))\n",
    "    # END for\n",
    "\n",
    "    # if found a better model after testing all remaining features\n",
    "    if changed:\n",
    "        # update control details\n",
    "        included.append(best['feature'])\n",
    "        excluded = list(set(excluded) - set(best['feature']))\n",
    "        print('Added feature %-4s with R^2 = %.3f and adjusted R^2 = %.3f' % \n",
    "              (best['feature'], best['r2'], best['a_r2']))\n",
    "    else:\n",
    "        # terminate if no better model\n",
    "        break\n",
    "\n",
    "print('')\n",
    "print('Resulting features:')\n",
    "print(', '.join(included))"
   ]
  },
  {
   "cell_type": "markdown",
   "metadata": {
    "colab_type": "text",
    "id": "3LCpYCPXl1XK"
   },
   "source": [
    "\n",
    "\n",
    "---\n",
    "\n",
    "\n",
    "\n",
    "---\n",
    "\n",
    "\n",
    "\n",
    "> > > > > > > > > © 2021 Institute of Data\n",
    "\n",
    "\n",
    "---\n",
    "\n",
    "\n",
    "\n",
    "---\n",
    "\n",
    "\n",
    "\n"
   ]
  }
 ],
 "metadata": {
  "colab": {
   "collapsed_sections": [],
   "name": "IOD_Lab 4.2.2.ipynb",
   "provenance": []
  },
  "kernelspec": {
   "display_name": "Python 3",
   "language": "python",
   "name": "python3"
  },
  "language_info": {
   "codemirror_mode": {
    "name": "ipython",
    "version": 3
   },
   "file_extension": ".py",
   "mimetype": "text/x-python",
   "name": "python",
   "nbconvert_exporter": "python",
   "pygments_lexer": "ipython3",
   "version": "3.8.5"
  }
 },
 "nbformat": 4,
 "nbformat_minor": 1
}
